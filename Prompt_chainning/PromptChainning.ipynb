{
 "cells": [
  {
   "cell_type": "code",
   "execution_count": 2,
   "id": "60dafd2c",
   "metadata": {},
   "outputs": [
    {
     "data": {
      "text/plain": [
       "AIMessage(content='Hello! How can I assist you today?', additional_kwargs={}, response_metadata={'token_usage': {'completion_tokens': 10, 'prompt_tokens': 39, 'total_tokens': 49, 'completion_time': 0.011184675, 'prompt_time': 0.002445738, 'queue_time': 0.054092451, 'total_time': 0.013630413}, 'model_name': 'llama-3.1-8b-instant', 'system_fingerprint': 'fp_c54ae48ece', 'service_tier': 'on_demand', 'finish_reason': 'stop', 'logprobs': None}, id='run--c91c1866-5d4e-4162-beca-9a3882806523-0', usage_metadata={'input_tokens': 39, 'output_tokens': 10, 'total_tokens': 49})"
      ]
     },
     "execution_count": 2,
     "metadata": {},
     "output_type": "execute_result"
    }
   ],
   "source": [
    "import os\n",
    "from dotenv import load_dotenv\n",
    "load_dotenv()\n",
    "\n",
    "from langchain_groq import ChatGroq\n",
    "\n",
    "os.environ[\"GROQ_API_KEY\"]=os.getenv(\"GROQ_API_KEY\")\n",
    "\n",
    "llm=ChatGroq(model=\"llama-3.1-8b-instant\")\n",
    "\n",
    "result=llm.invoke(\"HEllo!\")\n",
    "result\n"
   ]
  },
  {
   "cell_type": "code",
   "execution_count": 4,
   "metadata": {},
   "outputs": [],
   "source": [
    "from typing_extensions import TypedDict\n",
    "from langgraph.graph import StateGraph,START,END\n",
    "from IPython.display import Image,display\n",
    "\n",
    "class State(TypedDict):\n",
    "    topic:str\n",
    "    story:str\n",
    "    improved_story:str\n",
    "    final_story:str\n",
    "\n",
    "\n",
    "\n",
    "def generate_story(state:State):\n",
    "    msg=llm.invoke(f\"Write a one sentecnce story premise about {state[\"topic\"]}\")\n",
    "    return{\"story\":msg.content}\n",
    "\n",
    "def check_conflict(state:State):\n",
    "    if \"?\" in state[\"story\"] or \"!\" in state[\"story\"]:\n",
    "        return \"Fail\"\n",
    "    return \"Pass\"\n",
    "\n",
    "def improved_story(state:State):\n",
    "    msg=llm.invoke(f\"Enhance the story premice with vivid details : {state[\"story\"]}\")\n",
    "    return {\"improved_story\":msg.content}\n",
    "\n",
    "def polish_story(state:State):\n",
    "    msg=llm.invoke(f\"Add an unexpected twist to this story premise :{state[\"improved_story\"]}\")\n",
    "    return {\"final_story\":msg.content}\n",
    "\n"
   ]
  },
  {
   "cell_type": "code",
   "execution_count": 10,
   "metadata": {},
   "outputs": [
    {
     "data": {
      "image/png": "[encoded data removed]",
      "text/plain": [
       "<IPython.core.display.Image object>"
      ]
     },
     "metadata": {},
     "output_type": "display_data"
    }
   ],
   "source": [
    "graph=StateGraph(State)\n",
    "graph.add_node(\"generate\",generate_story)\n",
    "graph.add_node(\"improve\",improved_story)\n",
    "graph.add_node(\"polish\",polish_story)\n",
    "\n",
    "#Define the edges\n",
    "\n",
    "graph.add_edge(START,\"generate\")\n",
    "graph.add_conditional_edges(\"generate\",check_conflict,{\"Pass\":\"improve\",\"Fail\":\"generate\"})\n",
    "graph.add_edge(\"improve\",\"polish\")\n",
    "graph.add_edge(\"polish\",END)\n",
    "\n",
    "compiled=graph.compile()\n",
    "\n",
    "g_i= compiled.get_graph().draw_mermaid_png()\n",
    "display(Image(g_i))"
   ]
  },
  {
   "cell_type": "code",
   "execution_count": 11,
   "id": "7f5b79ef",
   "metadata": {},
   "outputs": [
    {
     "data": {
      "text/plain": [
       "{'topic': 'Space Exploreation',\n",
       " 'story': 'As humanity\\'s first interstellar mission, the starship \"Aurora\" embarks on a perilous 20-year journey to explore the distant exoplanet Kepler-62f, a potentially habitable world that could hold the key to the existence of alien life and unlock the secrets of the universe.',\n",
       " 'improved_story': 'In the year 2178, humanity\\'s most ambitious undertaking yet was set to embark on a perilous 20-year journey across the vast expanse of space. The starship \"Aurora\" stood tall and proud, her sleek, silver hull glinting in the bright lights of the Kennedy Space Center\\'s launchpad. The air was electric with excitement as the world watched the culmination of decades of tireless work by scientists, engineers, and astronauts who had dedicated their lives to this mission.\\n\\nThe \"Aurora\" was a marvel of modern engineering, a technological behemoth that stretched over 1,000 feet in length and 200 feet in width. Her massive solar panels, resembling giant wings, were designed to harness the energy of the stars, while her cutting-edge fusion reactors provided the power needed to propel her through the void. The ship\\'s hull was a latticework of interlocking modules, each one a self-contained ecosystem that supported the crew\\'s every need.\\n\\nAs the final countdown began, the crew of 20 astronauts, handpicked from around the world, boarded the ship with a mix of excitement and trepidation. Led by Commander Sarah Patel, a seasoned astronaut with two previous missions under her belt, the crew had undergone rigorous training to prepare them for the challenges they would face on their journey to Kepler-62f.\\n\\nKepler-62f, a distant exoplanet located over 1,200 light-years from Earth, was a tantalizing prospect for those searching for extraterrestrial life. Its orbit was within the habitable zone of its star, Kepler-62, meaning that liquid water could exist on its surface, a crucial ingredient for life as we know it. The prospect of discovering alien life, or even evidence of past life on the planet, sent shivers down the spines of scientists and space enthusiasts alike.\\n\\nAs the \"Aurora\" lifted off the launchpad, a plume of fiery exhaust shot into the sky, leaving a trail of smoke and debris in its wake. The roar of the engines grew louder, and the ship began to accelerate, piercing the atmosphere and entering the vast expanse of space.\\n\\nOver the next 20 years, the \"Aurora\" would travel at incredible speeds, covering over 24 trillion miles of space. The crew would experience the thrill of weightlessness, the beauty of celestial bodies, and the harsh realities of living in a confined, artificial environment for extended periods.\\n\\nTheir journey would be a test of human endurance, pushing the limits of what was thought possible. The crew would face challenges that would test their physical and mental limits, from navigating treacherous asteroid fields to coping with the isolation and confinement of deep space.\\n\\nBut the rewards would be immeasurable. The discovery of alien life, or even evidence of past life on Kepler-62f, could unlock the secrets of the universe, revealing new insights into the origins of life and the fate of humanity. The \"Aurora\" was more than just a starship – it was a symbol of humanity\\'s boundless curiosity, a beacon of hope in the darkness of space.\\n\\nAs the \"Aurora\" vanished into the vast expanse of space, the world held its breath, waiting for the day when the crew would return, their findings and discoveries a testament to the ingenuity and determination of the human spirit.',\n",
       " 'final_story': 'But as the \"Aurora\" sailed through the cosmos, a strange phenomenon began to manifest. The ship\\'s advanced sensors and instruments picked up an unusual energy signature emanating from the heart of the galaxy. The energy signature seemed to be resonating at a frequency that synchronized with the ship\\'s own quantum entanglement generators, which were designed to maintain a stable wormhole for faster-than-light travel.\\n\\nAt first, the crew thought it was just a glitch, but as they continued to monitor the energy signature, they realized that it was, in fact, a deliberate signal. The signal was being transmitted from an unknown source, and it seemed to be guiding the \"Aurora\" towards an uncharted region of space.\\n\\nAs the crew analyzed the signal further, they discovered that it was not a natural phenomenon, but rather a message from an advanced civilization that had been hiding in plain sight. The civilization, known as the \" Architects,\" had been observing humanity for centuries, manipulating the course of human history to prepare them for the moment when they would be ready to join the intergalactic community.\\n\\nThe \"Architects\" had created the \"Aurora\" and its crew as part of a grand experiment to test humanity\\'s readiness for the next stage of evolution. The journey to Kepler-62f was just a cover, a distraction from the true purpose of the mission. The crew\\'s discovery of alien life, or evidence of past life, was not the ultimate goal, but rather a mere stepping stone towards a far greater revelation.\\n\\nAs the \"Aurora\" approached the uncharted region of space, the crew was met with a breathtaking sight: a sprawling, crystalline city that stretched across millions of kilometers, its facets reflecting the light of nearby stars. The city was home to the \"Architects,\" a being of immense power and wisdom who had been guiding humanity\\'s evolution for millennia.\\n\\nThe \"Architects\" revealed to the crew that humanity was not just a species, but a key component in the grand symphony of the universe. They had been created as a vessel for the human spirit, a spirit that had the potential to transcend the bounds of space and time. The \"Aurora\" and its crew were not just explorers, but pioneers, tasked with unlocking the secrets of the universe and fulfilling the destiny that had been written for humanity.\\n\\nThe crew of the \"Aurora\" was faced with an impossible choice: to return to Earth, armed with the knowledge of their true purpose, or to remain in the crystal city, to learn from the \"Architects\" and to evolve into beings of pure energy, capable of exploring the vast expanse of the multiverse.\\n\\nAs the world watched, the \"Aurora\" vanished into the unknown, its crew forever changed by the revelation they had received. The starship\\'s mission had been just a beginning, a stepping stone towards a far greater adventure that would take humanity to the very limits of existence.'}"
      ]
     },
     "execution_count": 11,
     "metadata": {},
     "output_type": "execute_result"
    }
   ],
   "source": [
    "#Run the graph\n",
    "\n",
    "state={\"topic\":\"Space Exploreation\"}\n",
    "res=compiled.invoke(state)\n",
    "res"
   ]
  },
  {
   "cell_type": "code",
   "execution_count": 12,
   "metadata": {},
   "outputs": [
    {
     "name": "stdout",
     "output_type": "stream",
     "text": [
      "Improved Story\n",
      "In the year 2178, humanity's most ambitious undertaking yet was set to embark on a perilous 20-year journey across the vast expanse of space. The starship \"Aurora\" stood tall and proud, her sleek, silver hull glinting in the bright lights of the Kennedy Space Center's launchpad. The air was electric with excitement as the world watched the culmination of decades of tireless work by scientists, engineers, and astronauts who had dedicated their lives to this mission.\n",
      "\n",
      "The \"Aurora\" was a marvel of modern engineering, a technological behemoth that stretched over 1,000 feet in length and 200 feet in width. Her massive solar panels, resembling giant wings, were designed to harness the energy of the stars, while her cutting-edge fusion reactors provided the power needed to propel her through the void. The ship's hull was a latticework of interlocking modules, each one a self-contained ecosystem that supported the crew's every need.\n",
      "\n",
      "As the final countdown began, the crew of 20 astronauts, handpicked from around the world, boarded the ship with a mix of excitement and trepidation. Led by Commander Sarah Patel, a seasoned astronaut with two previous missions under her belt, the crew had undergone rigorous training to prepare them for the challenges they would face on their journey to Kepler-62f.\n",
      "\n",
      "Kepler-62f, a distant exoplanet located over 1,200 light-years from Earth, was a tantalizing prospect for those searching for extraterrestrial life. Its orbit was within the habitable zone of its star, Kepler-62, meaning that liquid water could exist on its surface, a crucial ingredient for life as we know it. The prospect of discovering alien life, or even evidence of past life on the planet, sent shivers down the spines of scientists and space enthusiasts alike.\n",
      "\n",
      "As the \"Aurora\" lifted off the launchpad, a plume of fiery exhaust shot into the sky, leaving a trail of smoke and debris in its wake. The roar of the engines grew louder, and the ship began to accelerate, piercing the atmosphere and entering the vast expanse of space.\n",
      "\n",
      "Over the next 20 years, the \"Aurora\" would travel at incredible speeds, covering over 24 trillion miles of space. The crew would experience the thrill of weightlessness, the beauty of celestial bodies, and the harsh realities of living in a confined, artificial environment for extended periods.\n",
      "\n",
      "Their journey would be a test of human endurance, pushing the limits of what was thought possible. The crew would face challenges that would test their physical and mental limits, from navigating treacherous asteroid fields to coping with the isolation and confinement of deep space.\n",
      "\n",
      "But the rewards would be immeasurable. The discovery of alien life, or even evidence of past life on Kepler-62f, could unlock the secrets of the universe, revealing new insights into the origins of life and the fate of humanity. The \"Aurora\" was more than just a starship – it was a symbol of humanity's boundless curiosity, a beacon of hope in the darkness of space.\n",
      "\n",
      "As the \"Aurora\" vanished into the vast expanse of space, the world held its breath, waiting for the day when the crew would return, their findings and discoveries a testament to the ingenuity and determination of the human spirit.\n"
     ]
    }
   ],
   "source": [
    "print(\"Improved Story\")\n",
    "print(res[\"improved_story\"])"
   ]
  },
  {
   "cell_type": "code",
   "execution_count": 14,
   "metadata": {},
   "outputs": [
    {
     "name": "stdout",
     "output_type": "stream",
     "text": [
      "Final Story\n",
      "But as the \"Aurora\" sailed through the cosmos, a strange phenomenon began to manifest. The ship's advanced sensors and instruments picked up an unusual energy signature emanating from the heart of the galaxy. The energy signature seemed to be resonating at a frequency that synchronized with the ship's own quantum entanglement generators, which were designed to maintain a stable wormhole for faster-than-light travel.\n",
      "\n",
      "At first, the crew thought it was just a glitch, but as they continued to monitor the energy signature, they realized that it was, in fact, a deliberate signal. The signal was being transmitted from an unknown source, and it seemed to be guiding the \"Aurora\" towards an uncharted region of space.\n",
      "\n",
      "As the crew analyzed the signal further, they discovered that it was not a natural phenomenon, but rather a message from an advanced civilization that had been hiding in plain sight. The civilization, known as the \" Architects,\" had been observing humanity for centuries, manipulating the course of human history to prepare them for the moment when they would be ready to join the intergalactic community.\n",
      "\n",
      "The \"Architects\" had created the \"Aurora\" and its crew as part of a grand experiment to test humanity's readiness for the next stage of evolution. The journey to Kepler-62f was just a cover, a distraction from the true purpose of the mission. The crew's discovery of alien life, or evidence of past life, was not the ultimate goal, but rather a mere stepping stone towards a far greater revelation.\n",
      "\n",
      "As the \"Aurora\" approached the uncharted region of space, the crew was met with a breathtaking sight: a sprawling, crystalline city that stretched across millions of kilometers, its facets reflecting the light of nearby stars. The city was home to the \"Architects,\" a being of immense power and wisdom who had been guiding humanity's evolution for millennia.\n",
      "\n",
      "The \"Architects\" revealed to the crew that humanity was not just a species, but a key component in the grand symphony of the universe. They had been created as a vessel for the human spirit, a spirit that had the potential to transcend the bounds of space and time. The \"Aurora\" and its crew were not just explorers, but pioneers, tasked with unlocking the secrets of the universe and fulfilling the destiny that had been written for humanity.\n",
      "\n",
      "The crew of the \"Aurora\" was faced with an impossible choice: to return to Earth, armed with the knowledge of their true purpose, or to remain in the crystal city, to learn from the \"Architects\" and to evolve into beings of pure energy, capable of exploring the vast expanse of the multiverse.\n",
      "\n",
      "As the world watched, the \"Aurora\" vanished into the unknown, its crew forever changed by the revelation they had received. The starship's mission had been just a beginning, a stepping stone towards a far greater adventure that would take humanity to the very limits of existence.\n"
     ]
    }
   ],
   "source": [
    "print(\"Final Story\")\n",
    "print(res[\"final_story\"])"
   ]
  },
  {
   "cell_type": "code",
   "execution_count": null,
   "metadata": {},
   "outputs": [],
   "source": []
  },
  {
   "cell_type": "code",
   "execution_count": null,
   "metadata": {},
   "outputs": [],
   "source": []
  },
  {
   "cell_type": "code",
   "execution_count": null,
   "metadata": {},
   "outputs": [],
   "source": []
  },
  {
   "cell_type": "code",
   "execution_count": null,
   "metadata": {},
   "outputs": [],
   "source": []
  }
 ],
 "metadata": {
  "kernelspec": {
   "display_name": "Python 3",
   "language": "python",
   "name": "python3"
  },
  "language_info": {
   "codemirror_mode": {
    "name": "ipython",
    "version": 3
   },
   "file_extension": ".py",
   "mimetype": "text/x-python",
   "name": "python",
   "nbconvert_exporter": "python",
   "pygments_lexer": "ipython3",
   "version": "3.12.0"
  }
 },
 "nbformat": 4,
 "nbformat_minor": 5
}
