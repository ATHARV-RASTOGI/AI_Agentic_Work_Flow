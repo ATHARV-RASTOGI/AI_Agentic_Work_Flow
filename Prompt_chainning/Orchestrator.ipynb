{
 "cells": [
  {
   "cell_type": "code",
   "execution_count": 1,
   "id": "a967f45f",
   "metadata": {},
   "outputs": [
    {
     "data": {
      "text/plain": [
       "AIMessage(content='Hello. Is there something I can help you with, or would you like to chat?', additional_kwargs={}, response_metadata={'token_usage': {'completion_tokens': 19, 'prompt_tokens': 39, 'total_tokens': 58, 'completion_time': 0.026144674, 'prompt_time': 0.002091525, 'queue_time': 0.053604295, 'total_time': 0.028236199}, 'model_name': 'llama-3.1-8b-instant', 'system_fingerprint': 'fp_3ddc9808b3', 'service_tier': 'on_demand', 'finish_reason': 'stop', 'logprobs': None}, id='run--a5263551-32d7-4b20-88cf-2531436d52ac-0', usage_metadata={'input_tokens': 39, 'output_tokens': 19, 'total_tokens': 58})"
      ]
     },
     "execution_count": 1,
     "metadata": {},
     "output_type": "execute_result"
    }
   ],
   "source": [
    "import os\n",
    "from dotenv import load_dotenv\n",
    "load_dotenv()\n",
    "\n",
    "from langchain_groq import ChatGroq\n",
    "\n",
    "os.environ[\"GROQ_API_KEY\"]=os.getenv(\"GROQ_API_KEY\")\n",
    "\n",
    "llm=ChatGroq(model=\"llama-3.1-8b-instant\")\n",
    "\n",
    "result=llm.invoke(\"HEllo!\")\n",
    "result\n"
   ]
  },
  {
   "cell_type": "code",
   "execution_count": 2,
   "metadata": {},
   "outputs": [],
   "source": [
    "from typing import Annotated\n",
    "import operator\n",
    "from typing_extensions import Literal\n",
    "from pydantic import BaseModel,Field\n",
    "from langchain_core.messages import HumanMessage,SystemMessage\n",
    "from typing_extensions import TypedDict"
   ]
  },
  {
   "cell_type": "code",
   "execution_count": null,
   "id": "1184b4fb",
   "metadata": {},
   "outputs": [],
   "source": [
    "from typing import List\n",
    "\n",
    "class Section(BaseModel):\n",
    "    name:str=Field(description=\"Name for this section of report\")\n",
    "    description:str=Field(description=\"Breif Overview of the main topics and concepts of the section\")\n",
    "\n",
    "class Section(BaseModel):\n",
    "    section:List[Section]=Field(\n",
    "        description=\"Section of the report\"\n",
    "    )\n",
    "\n",
    "planner=llm.with_structured_output(Section)"
   ]
  },
  {
   "cell_type": "code",
   "execution_count": null,
   "id": "5b92ea50",
   "metadata": {},
   "outputs": [],
   "source": [
    "from langgraph.types import Send\n",
    "\n",
    "class State(TypedDict):\n",
    "    topic:str\n",
    "    section:list[Section]\n",
    "    completed_section:Annotated[\n",
    "        list,operator.add\n",
    "    ]\n",
    "    final_report:str\n",
    "\n",
    "class Wprkerstate(TypedDict):\n",
    "    section:Section\n",
    "    completed_sections:Annotated[list,operator.add]\n",
    "    "
   ]
  },
  {
   "cell_type": "code",
   "execution_count": null,
   "id": "e33e3a73",
   "metadata": {},
   "outputs": [],
   "source": [
    "def orchestrator(state:State):\n",
    "    \"\"\"orchestrator that generate a plan for the report\"\"\"\n",
    "\n",
    "    report_sections= planner.invoke(\n",
    "        [\n",
    "            SystemMessage(content=\"Generate a plan for the report\"),\n",
    "            HumanMessage(content=f\"Herer is the report topic:{state['topic']}\")\n",
    "\n",
    "        ]\n",
    "    )\n",
    "\n",
    "    print(\"Report Sections:\",report_sections)\n",
    "\n",
    "    return {\"setions\":report_sections.sections}"
   ]
  },
  {
   "cell_type": "code",
   "execution_count": null,
   "id": "6de69858",
   "metadata": {},
   "outputs": [],
   "source": []
  },
  {
   "cell_type": "code",
   "execution_count": null,
   "id": "279c3f6f",
   "metadata": {},
   "outputs": [],
   "source": []
  },
  {
   "cell_type": "code",
   "execution_count": null,
   "id": "f2375773",
   "metadata": {},
   "outputs": [],
   "source": []
  },
  {
   "cell_type": "code",
   "execution_count": null,
   "id": "c1076603",
   "metadata": {},
   "outputs": [],
   "source": []
  }
 ],
 "metadata": {
  "kernelspec": {
   "display_name": "Python 3",
   "language": "python",
   "name": "python3"
  },
  "language_info": {
   "codemirror_mode": {
    "name": "ipython",
    "version": 3
   },
   "file_extension": ".py",
   "mimetype": "text/x-python",
   "name": "python",
   "nbconvert_exporter": "python",
   "pygments_lexer": "ipython3",
   "version": "3.12.0"
  }
 },
 "nbformat": 4,
 "nbformat_minor": 5
}
