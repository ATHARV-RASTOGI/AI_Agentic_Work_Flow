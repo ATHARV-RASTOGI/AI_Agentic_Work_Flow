{
 "cells": [
  {
   "cell_type": "code",
   "execution_count": 97,
   "id": "c78660c6",
   "metadata": {},
   "outputs": [
    {
     "data": {
      "text/plain": [
       "AIMessage(content=\"Hello! It's nice to meet you. Is there something I can help you with or would you like to chat?\", additional_kwargs={}, response_metadata={'token_usage': {'completion_tokens': 25, 'prompt_tokens': 39, 'total_tokens': 64, 'completion_time': 0.024562443, 'prompt_time': 0.002364154, 'queue_time': 0.074088476, 'total_time': 0.026926597}, 'model_name': 'llama-3.1-8b-instant', 'system_fingerprint': 'fp_28116a6b5f', 'service_tier': 'on_demand', 'finish_reason': 'stop', 'logprobs': None}, id='run--d989a636-9673-41e0-b891-b01562c7e911-0', usage_metadata={'input_tokens': 39, 'output_tokens': 25, 'total_tokens': 64})"
      ]
     },
     "execution_count": 97,
     "metadata": {},
     "output_type": "execute_result"
    }
   ],
   "source": [
    "import os\n",
    "from dotenv import load_dotenv\n",
    "load_dotenv()\n",
    "\n",
    "from langchain_groq import ChatGroq\n",
    "\n",
    "os.environ[\"GROQ_API_KEY\"]=os.getenv(\"GROQ_API_KEY\")\n",
    "\n",
    "llm=ChatGroq(model=\"llama-3.1-8b-instant\")\n",
    "\n",
    "result=llm.invoke(\"HEllo!\")\n",
    "result\n"
   ]
  },
  {
   "cell_type": "code",
   "execution_count": 98,
   "id": "59463d78",
   "metadata": {},
   "outputs": [],
   "source": [
    "from typing_extensions import TypedDict\n",
    "from langgraph.graph import StateGraph,START,END\n",
    "class State(TypedDict):\n",
    "    topic:str\n",
    "    character:str\n",
    "    settings:str\n",
    "    premises:str\n",
    "    story_intro:str"
   ]
  },
  {
   "cell_type": "code",
   "execution_count": 99,
   "id": "fe060d39",
   "metadata": {},
   "outputs": [],
   "source": [
    "def generate_characters(state:State):\n",
    "    \"\"\"Generate character description\"\"\"\n",
    "    msg=llm.invoke(f\"Create two character names and breif traits for a story about {state['topic']}\")\n",
    "    return {\"character\":msg.content}\n",
    "\n",
    "def generate_setting(state:State):\n",
    "    \"\"\"Generate a story setting\"\"\"\n",
    "    msg=llm.invoke(f\"Describe a vivid settings for a story about {state['topic']}\")\n",
    "    return {\"settings\":msg.content}\n",
    "\n",
    "def generate_premise(state:State):\n",
    "    \"\"\"Generate a story premise\"\"\"\n",
    "    msg=llm.invoke(f\"Write a one-sentence plot premise for a story about {state['topic']}\")\n",
    "    return {\"premises\":msg.content}\n",
    "\n",
    "def combine_elements(state:State):\n",
    "    msg=llm.invoke(\n",
    "        f\"Write a short introduction using these elements :\\n\"\n",
    "        f\"Character:{state['character']}\\n\"\n",
    "        f\"Settings:{state['settings']}\\n\"\n",
    "        f\"Premise:{state['premises']}\"\n",
    "    )\n",
    "    return {\"story_intro\":msg.content}"
   ]
  },
  {
   "cell_type": "code",
   "execution_count": 100,
   "id": "6665d8ea",
   "metadata": {},
   "outputs": [],
   "source": [
    "graph=StateGraph(State)\n",
    "graph.add_node(\"character\",generate_characters)\n",
    "graph.add_node(\"setting\",generate_setting)\n",
    "graph.add_node(\"premise\",generate_premise)\n",
    "graph.add_node(\"combine\",combine_elements) \n",
    "from IPython.display import Image,display\n"
   ]
  },
  {
   "cell_type": "code",
   "execution_count": 101,
   "metadata": {},
   "outputs": [
    {
     "data": {
      "image/png": "[encoded data removed]",
      "text/plain": [
       "<IPython.core.display.Image object>"
      ]
     },
     "metadata": {},
     "output_type": "display_data"
    }
   ],
   "source": [
    "\n",
    "graph.add_edge(START,\"character\")\n",
    "graph.add_edge(START,\"setting\")\n",
    "graph.add_edge(START,\"premise\")\n",
    "graph.add_edge(\"character\",\"combine\")\n",
    "graph.add_edge(\"setting\",\"combine\")\n",
    "graph.add_edge(\"premise\",\"combine\")\n",
    "graph.add_edge(\"combine\",END)\n",
    "\n",
    "compiled_graph= graph.compile()\n",
    "graph_image=compiled_graph.get_graph().draw_mermaid_png()\n",
    "display(Image(graph_image))"
   ]
  },
  {
   "cell_type": "code",
   "execution_count": 102,
   "id": "0ed10efc",
   "metadata": {},
   "outputs": [
    {
     "data": {
      "text/plain": [
       "{'topic': 'Space Adventure',\n",
       " 'character': \"Here are two character names and brief traits for a space adventure story:\\n\\n**1. Captain Lyra Blackwood**\\n\\n- Age: 32\\n- Nationality: American\\n- Species: Human\\n- Personality: Brave, Resourceful, and Charismatic\\n- Skills: Expert Pilot, Skilled Navigator, and Talented Engineer\\n- Background: Lyra is a seasoned space explorer with years of experience in navigating the galaxy. She's known for her exceptional leadership skills and unwavering dedication to her crew.\\n\\n**2. Dr. Kael Jensen**\\n\\n- Age: 28\\n- Nationality: Danish\\n- Species: Human\\n- Personality: Curious, Analytical, and Loyal\\n- Skills: Expert in Exoplanetary Biology, Astrophysics, and Alien Communication\\n- Background: Kael is a brilliant scientist who specializes in the study of alien life forms. He's always eager to uncover new discoveries and is fiercely loyal to Lyra and the crew.\\n\\nThese two characters will likely work together to explore the galaxy, overcome challenges, and unravel the mysteries of space.\",\n",
       " 'settings': '**Galactic Horizon: The Starlight Oasis**\\n\\nAs the spaceship, \"Aurora\\'s Hope,\" emerged from the swirling vortex of a wormhole, the crew was met with a breathtaking sight. The stars twinkled like diamonds against the inky blackness of space, and the galaxy unfolded before them like a vast, cosmic tapestry.\\n\\nThe ship drifted towards the planet Zara-Xylophia-IV, a distant world shrouded in an ethereal mist. The airlock creaked open, and a hiss of pressure equalized as the crew prepared to exit the ship. The hatch swung wide, revealing a shimmering veil of iridescent gases that danced like a spectral aurora.\\n\\nAs they stepped onto the planet\\'s surface, the crew was enveloped by a warm, golden light that seemed to emanate from the very rocks themselves. The landscape unfolded before them, a tapestry of glittering crystals, shimmering waterfalls, and undulating dunes of a substance that looked almost like liquid silver.\\n\\nIn the distance, a range of crystal spires rose from the ground, their facets glinting like a thousand tiny mirrors. The air was filled with a sweet, musical hum, as if the planet itself was singing a gentle melody.\\n\\nA gentle breeze rustled the leaves of towering, crystalline trees that seemed to stretch up to the stars. The scent of ozone and something sweetly floral wafted through the air, leaving the crew with a sense of wonder and awe.\\n\\nThe sky above was a deep shade of indigo, with stars twinkling like diamonds scattered across the fabric of space. A faint, silver glow emanated from the planet\\'s core, illuminating the landscape with an otherworldly light.\\n\\nAs the crew of the \"Aurora\\'s Hope\" explored this enchanted world, they began to uncover its secrets. Zara-Xylophia-IV was a planet of ancient mysteries, hidden temples, and forgotten civilizations. It was a place where the laws of physics were subtly different, where the fabric of space-time was woven with a thread of magic and wonder.\\n\\nThis was the setting for their space adventure, a journey that would take them to the farthest reaches of the galaxy, through the mysteries of the cosmos, and into the heart of a planet that held secrets beyond their wildest imagination.',\n",
       " 'premises': \"When an ancient alien artifact is discovered on a long-abandoned planet, a group of space explorers must navigate treacherous black holes and hostile alien species to unlock the artifact's secrets and prevent it from falling into the wrong hands.\",\n",
       " 'story_intro': 'As the spaceship \"Aurora\\'s Hope\" descended onto the uncharted planet of Zara-Xylophia-IV, Captain Lyra Blackwood stepped out of the airlock, her eyes scanning the breathtaking vista before her. The landscape shimmered and danced in the golden light that seemed to emanate from the very rocks themselves. The air was alive with a sweet, musical hum, and the scent of ozone and something sweetly floral wafted through the air, leaving Lyra with a sense of wonder and awe.\\n\\n\"Captain, we\\'re reading some strange energy signatures coming from the crystal spires,\" reported Dr. Kael Jensen, who stood beside Lyra, his eyes fixed on the readings on his console. \"It\\'s unlike anything we\\'ve seen before. I think we should investigate further.\"\\n\\nLyra nodded, her mind racing with possibilities. She had always been drawn to the unknown, and this planet seemed to be full of secrets waiting to be uncovered. She turned to her crew, her voice carrying across the landscape. \"Alright, let\\'s gear up and get moving. We don\\'t know what we\\'ll find, but I have a feeling it\\'s going to be big.\"\\n\\nAs the crew of the \"Aurora\\'s Hope\" set out to explore the wonders of Zara-Xylophia-IV, they had no idea that they were about to stumble upon an ancient alien artifact that would change the course of their lives forever. The artifact, hidden on a long-abandoned planet, held the key to unlocking the secrets of the universe, and a group of ruthless treasure hunters was hot on their heels, determined to claim it for themselves.\\n\\nLyra and Kael, along with their crew, were about to embark on a perilous journey through the galaxy, navigating treacherous black holes and hostile alien species, all in the pursuit of unlocking the artifact\\'s secrets and preventing it from falling into the wrong hands. Little did they know, their adventure was only just beginning, and the fate of the galaxy hung in the balance.'}"
      ]
     },
     "execution_count": 102,
     "metadata": {},
     "output_type": "execute_result"
    }
   ],
   "source": [
    "tate={\"topic\":\"Space Adventure\"}\n",
    "res=compiled_graph.invoke(state)\n",
    "res"
   ]
  },
  {
   "cell_type": "code",
   "execution_count": 103,
   "id": "90acea34",
   "metadata": {},
   "outputs": [
    {
     "name": "stdout",
     "output_type": "stream",
     "text": [
      "Here are two character names and brief traits for a space adventure story:\n",
      "\n",
      "**1. Captain Lyra Blackwood**\n",
      "\n",
      "- Age: 32\n",
      "- Nationality: American\n",
      "- Species: Human\n",
      "- Personality: Brave, Resourceful, and Charismatic\n",
      "- Skills: Expert Pilot, Skilled Navigator, and Talented Engineer\n",
      "- Background: Lyra is a seasoned space explorer with years of experience in navigating the galaxy. She's known for her exceptional leadership skills and unwavering dedication to her crew.\n",
      "\n",
      "**2. Dr. Kael Jensen**\n",
      "\n",
      "- Age: 28\n",
      "- Nationality: Danish\n",
      "- Species: Human\n",
      "- Personality: Curious, Analytical, and Loyal\n",
      "- Skills: Expert in Exoplanetary Biology, Astrophysics, and Alien Communication\n",
      "- Background: Kael is a brilliant scientist who specializes in the study of alien life forms. He's always eager to uncover new discoveries and is fiercely loyal to Lyra and the crew.\n",
      "\n",
      "These two characters will likely work together to explore the galaxy, overcome challenges, and unravel the mysteries of space.\n"
     ]
    }
   ],
   "source": [
    "print(res[\"character\"])"
   ]
  },
  {
   "cell_type": "code",
   "execution_count": 105,
   "id": "56d63798",
   "metadata": {},
   "outputs": [
    {
     "name": "stdout",
     "output_type": "stream",
     "text": [
      "**Galactic Horizon: The Starlight Oasis**\n",
      "\n",
      "As the spaceship, \"Aurora's Hope,\" emerged from the swirling vortex of a wormhole, the crew was met with a breathtaking sight. The stars twinkled like diamonds against the inky blackness of space, and the galaxy unfolded before them like a vast, cosmic tapestry.\n",
      "\n",
      "The ship drifted towards the planet Zara-Xylophia-IV, a distant world shrouded in an ethereal mist. The airlock creaked open, and a hiss of pressure equalized as the crew prepared to exit the ship. The hatch swung wide, revealing a shimmering veil of iridescent gases that danced like a spectral aurora.\n",
      "\n",
      "As they stepped onto the planet's surface, the crew was enveloped by a warm, golden light that seemed to emanate from the very rocks themselves. The landscape unfolded before them, a tapestry of glittering crystals, shimmering waterfalls, and undulating dunes of a substance that looked almost like liquid silver.\n",
      "\n",
      "In the distance, a range of crystal spires rose from the ground, their facets glinting like a thousand tiny mirrors. The air was filled with a sweet, musical hum, as if the planet itself was singing a gentle melody.\n",
      "\n",
      "A gentle breeze rustled the leaves of towering, crystalline trees that seemed to stretch up to the stars. The scent of ozone and something sweetly floral wafted through the air, leaving the crew with a sense of wonder and awe.\n",
      "\n",
      "The sky above was a deep shade of indigo, with stars twinkling like diamonds scattered across the fabric of space. A faint, silver glow emanated from the planet's core, illuminating the landscape with an otherworldly light.\n",
      "\n",
      "As the crew of the \"Aurora's Hope\" explored this enchanted world, they began to uncover its secrets. Zara-Xylophia-IV was a planet of ancient mysteries, hidden temples, and forgotten civilizations. It was a place where the laws of physics were subtly different, where the fabric of space-time was woven with a thread of magic and wonder.\n",
      "\n",
      "This was the setting for their space adventure, a journey that would take them to the farthest reaches of the galaxy, through the mysteries of the cosmos, and into the heart of a planet that held secrets beyond their wildest imagination.\n"
     ]
    }
   ],
   "source": [
    "print(res[\"settings\"])"
   ]
  },
  {
   "cell_type": "code",
   "execution_count": 106,
   "metadata": {},
   "outputs": [
    {
     "name": "stdout",
     "output_type": "stream",
     "text": [
      "As the spaceship \"Aurora's Hope\" descended onto the uncharted planet of Zara-Xylophia-IV, Captain Lyra Blackwood stepped out of the airlock, her eyes scanning the breathtaking vista before her. The landscape shimmered and danced in the golden light that seemed to emanate from the very rocks themselves. The air was alive with a sweet, musical hum, and the scent of ozone and something sweetly floral wafted through the air, leaving Lyra with a sense of wonder and awe.\n",
      "\n",
      "\"Captain, we're reading some strange energy signatures coming from the crystal spires,\" reported Dr. Kael Jensen, who stood beside Lyra, his eyes fixed on the readings on his console. \"It's unlike anything we've seen before. I think we should investigate further.\"\n",
      "\n",
      "Lyra nodded, her mind racing with possibilities. She had always been drawn to the unknown, and this planet seemed to be full of secrets waiting to be uncovered. She turned to her crew, her voice carrying across the landscape. \"Alright, let's gear up and get moving. We don't know what we'll find, but I have a feeling it's going to be big.\"\n",
      "\n",
      "As the crew of the \"Aurora's Hope\" set out to explore the wonders of Zara-Xylophia-IV, they had no idea that they were about to stumble upon an ancient alien artifact that would change the course of their lives forever. The artifact, hidden on a long-abandoned planet, held the key to unlocking the secrets of the universe, and a group of ruthless treasure hunters was hot on their heels, determined to claim it for themselves.\n",
      "\n",
      "Lyra and Kael, along with their crew, were about to embark on a perilous journey through the galaxy, navigating treacherous black holes and hostile alien species, all in the pursuit of unlocking the artifact's secrets and preventing it from falling into the wrong hands. Little did they know, their adventure was only just beginning, and the fate of the galaxy hung in the balance.\n"
     ]
    }
   ],
   "source": [
    "print(res['story_intro'])"
   ]
  },
  {
   "cell_type": "code",
   "execution_count": null,
   "metadata": {},
   "outputs": [],
   "source": []
  },
  {
   "cell_type": "code",
   "execution_count": null,
   "metadata": {},
   "outputs": [],
   "source": []
  },
  {
   "cell_type": "code",
   "execution_count": null,
   "metadata": {},
   "outputs": [],
   "source": []
  }
 ],
 "metadata": {
  "kernelspec": {
   "display_name": "Python 3",
   "language": "python",
   "name": "python3"
  },
  "language_info": {
   "codemirror_mode": {
    "name": "ipython",
    "version": 3
   },
   "file_extension": ".py",
   "mimetype": "text/x-python",
   "name": "python",
   "nbconvert_exporter": "python",
   "pygments_lexer": "ipython3",
   "version": "3.12.0"
  }
 },
 "nbformat": 4,
 "nbformat_minor": 5
}
