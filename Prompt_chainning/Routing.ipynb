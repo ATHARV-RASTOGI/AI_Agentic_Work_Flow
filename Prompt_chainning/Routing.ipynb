{
 "cells": [
  {
   "cell_type": "code",
   "execution_count": 22,
   "id": "2ba5485f",
   "metadata": {},
   "outputs": [
    {
     "data": {
      "text/plain": [
       "AIMessage(content='Hello! How can I assist you today?', additional_kwargs={}, response_metadata={'token_usage': {'completion_tokens': 10, 'prompt_tokens': 39, 'total_tokens': 49, 'completion_time': 0.011397953, 'prompt_time': 0.002249477, 'queue_time': 0.049738833, 'total_time': 0.01364743}, 'model_name': 'llama-3.1-8b-instant', 'system_fingerprint': 'fp_90c2e79dab', 'service_tier': 'on_demand', 'finish_reason': 'stop', 'logprobs': None}, id='run--44d113bc-f66b-4f4c-afe5-68e924c5b46e-0', usage_metadata={'input_tokens': 39, 'output_tokens': 10, 'total_tokens': 49})"
      ]
     },
     "execution_count": 22,
     "metadata": {},
     "output_type": "execute_result"
    }
   ],
   "source": [
    "import os\n",
    "from dotenv import load_dotenv\n",
    "load_dotenv()\n",
    "\n",
    "from langchain_groq import ChatGroq\n",
    "\n",
    "os.environ[\"GROQ_API_KEY\"]=os.getenv(\"GROQ_API_KEY\")\n",
    "\n",
    "llm=ChatGroq(model=\"llama-3.1-8b-instant\")\n",
    "\n",
    "result=llm.invoke(\"HEllo!\")\n",
    "result\n"
   ]
  },
  {
   "cell_type": "code",
   "execution_count": 23,
   "id": "108ce13a",
   "metadata": {},
   "outputs": [],
   "source": [
    "from typing_extensions import Literal,TypedDict\n",
    "from pydantic import BaseModel,Field\n",
    "from langchain_core.messages import HumanMessage,SystemMessage\n",
    "\n",
    "class Route(BaseModel):\n",
    "    step:Literal[\"poem\",\"story\",\"joke\"]=Field(description=\"The next step in the routing process\")\n",
    "\n",
    "\n",
    "##Augement the LLm with schema \n",
    "router=llm.with_structured_output(Route)\n",
    "\n",
    "class State(TypedDict):\n",
    "    input:str\n",
    "    decision:str\n",
    "    output:str\n",
    "\n",
    "def llm_call_1(state:State):\n",
    "    \"\"\"Write a story\"\"\"\n",
    "\n",
    "    result=llm.invoke(state[\"input\"])\n",
    "    return{\"output\":result.content}\n",
    "\n",
    "\n",
    "def llm_call_2(state:State):\n",
    "    \"\"\"Write a joke\"\"\"\n",
    "    \n",
    "    result=llm.invoke(state[\"input\"])\n",
    "    return{\"output\":result.content}\n",
    "\n",
    "def llm_call_3(state:State):\n",
    "    \"\"\"Write a poem\"\"\"\n",
    "    \n",
    "    result=llm.invoke(state[\"input\"])\n",
    "    return{\"output\":result.content}\n",
    "\n",
    "def llm_call_router(state:State):\n",
    "    \"\"\"Route the input to the appropriate node\"\"\"\n",
    "\n",
    "    decision= router.invoke(\n",
    "        [\n",
    "            SystemMessage(\n",
    "                content=\"Route the input to story,joke or poem baaed on the users request \"\n",
    "            ),\n",
    "            HumanMessage(content=state[\"input\"])\n",
    "        ]\n",
    "    ) \n",
    "    return{\"decision\":decision.step}"
   ]
  },
  {
   "cell_type": "code",
   "execution_count": 24,
   "id": "c801d899",
   "metadata": {},
   "outputs": [],
   "source": [
    "def route_decision(state:State):\n",
    "\n",
    "    if state[\"decision\"] ==\"story\":\n",
    "        return \"llm_call_1\"\n",
    "    elif state[\"decision\"] ==\"joke\":\n",
    "        return \"llm_call_2\"\n",
    "    elif state[\"decision\"] ==\"poem\":\n",
    "        return \"llm_call_3\""
   ]
  },
  {
   "cell_type": "code",
   "execution_count": 25,
   "id": "d31c9ace",
   "metadata": {},
   "outputs": [
    {
     "data": {
      "image/png": "[encoded data removed]",
      "text/plain": [
       "<IPython.core.display.Image object>"
      ]
     },
     "metadata": {},
     "output_type": "display_data"
    }
   ],
   "source": [
    "from langgraph.graph import StateGraph,START,END\n",
    "from IPython.display import display,Image\n",
    "\n",
    "router_buillder= StateGraph(State)\n",
    "\n",
    "router_buillder.add_node(\"llm_call_1\",llm_call_1)\n",
    "router_buillder.add_node(\"llm_call_2\",llm_call_2)\n",
    "router_buillder.add_node(\"llm_call_3\",llm_call_3)\n",
    "router_buillder.add_node(\"llm_call_router\",llm_call_router)\n",
    "\n",
    "router_buillder.add_edge(START,\"llm_call_router\")\n",
    "router_buillder.add_conditional_edges(\n",
    "    \"llm_call_router\",\n",
    "    route_decision,\n",
    "    {\n",
    "        \"llm_call_1\":\"llm_call_1\",\n",
    "        \"llm_call_2\":\"llm_call_2\",\n",
    "        \"llm_call_3\":\"llm_call_3\",\n",
    "\n",
    "    },\n",
    ")\n",
    "router_buillder.add_edge(\"llm_call_1\",END)\n",
    "router_buillder.add_edge(\"llm_call_2\",END)\n",
    "router_buillder.add_edge(\"llm_call_3\",END)\n",
    "\n",
    "router_workflow= router_buillder.compile()\n",
    "display(Image(router_workflow.get_graph().draw_mermaid_png()))"
   ]
  },
  {
   "cell_type": "code",
   "execution_count": 35,
   "id": "0b9f02a9",
   "metadata": {},
   "outputs": [
    {
     "data": {
      "text/plain": [
       "{'input': 'Write me a poem with related to time that is cold cinematic , shoes the struggle of huamans with reapect to it',\n",
       " 'decision': 'poem',\n",
       " 'output': '**\"Echoes of Eternity\"**\\n\\nIn the vast expanse of time\\'s dark stage,\\nA lone figure stands, a fleeting page,\\nA moment\\'s pause, a heartbeat\\'s span,\\nA life unwinds, like sand in an hourglass pan.\\n\\nThe clock ticks on, a metronome\\'s beat,\\nA relentless march, a soul\\'s defeated repeat,\\nA dance with fate, a waltz with despair,\\nA struggle to keep pace, to hold on to a snare.\\n\\nThe hands of time, like grasping fingers, cold,\\nReach out to snatch, to claim the stories untold,\\nA fleeting thought, a whispered sigh,\\nA moment\\'s beauty, lost in the passing sky.\\n\\nWe chase the hours, like autumn leaves,\\nA fragile grasp, a desperate release,\\nWe cling to memories, like a lifeline\\'s thread,\\nA fragile hold, a moment\\'s dread.\\n\\nIn the mirror\\'s gaze, a reflection stares,\\nA stranger\\'s face, with lines and wrinkles, worn and shared,\\nA life lived, like a book, with pages turned,\\nA story told, in moments, like a burning concern.\\n\\nThe wind howls on, like a mournful sigh,\\nA lonely whisper, that echoes through the sky,\\nA reminder of, what\\'s lost and gone,\\nA fleeting glimpse, of what\\'s yet to come.\\n\\nAnd yet, we hold on, to the fragile thread,\\nA lifeline\\'s grasp, a moment\\'s dread,\\nWe cling to hope, like a beacon\\'s light,\\nA guiding star, that shines through the dark of night.\\n\\nFor in the end, it\\'s not the years we live,\\nBut the life we live, in the moments we give,\\nA dance with time, a waltz with fate,\\nA struggle to keep pace, to hold on to a moment\\'s state.\\n\\nSo we\\'ll keep on moving, through the dark of night,\\nWith the echoes of eternity, as our guiding light,\\nWe\\'ll chase the hours, like autumn leaves,\\nAnd hold on to the moments, that weaves our lives.'}"
      ]
     },
     "execution_count": 35,
     "metadata": {},
     "output_type": "execute_result"
    }
   ],
   "source": [
    "state=router_workflow.invoke({\"input\":\"Write me a poem with related to time that is cold cinematic , shoes the struggle of huamans with reapect to it\"})\n",
    "state\n"
   ]
  },
  {
   "cell_type": "code",
   "execution_count": 36,
   "id": "414428c5",
   "metadata": {},
   "outputs": [
    {
     "name": "stdout",
     "output_type": "stream",
     "text": [
      "Write me a poem with related to time that is cold cinematic , shoes the struggle of huamans with reapect to it\n"
     ]
    }
   ],
   "source": [
    "print(state[\"input\"])"
   ]
  },
  {
   "cell_type": "code",
   "execution_count": 37,
   "id": "0caf0111",
   "metadata": {},
   "outputs": [
    {
     "name": "stdout",
     "output_type": "stream",
     "text": [
      "**\"Echoes of Eternity\"**\n",
      "\n",
      "In the vast expanse of time's dark stage,\n",
      "A lone figure stands, a fleeting page,\n",
      "A moment's pause, a heartbeat's span,\n",
      "A life unwinds, like sand in an hourglass pan.\n",
      "\n",
      "The clock ticks on, a metronome's beat,\n",
      "A relentless march, a soul's defeated repeat,\n",
      "A dance with fate, a waltz with despair,\n",
      "A struggle to keep pace, to hold on to a snare.\n",
      "\n",
      "The hands of time, like grasping fingers, cold,\n",
      "Reach out to snatch, to claim the stories untold,\n",
      "A fleeting thought, a whispered sigh,\n",
      "A moment's beauty, lost in the passing sky.\n",
      "\n",
      "We chase the hours, like autumn leaves,\n",
      "A fragile grasp, a desperate release,\n",
      "We cling to memories, like a lifeline's thread,\n",
      "A fragile hold, a moment's dread.\n",
      "\n",
      "In the mirror's gaze, a reflection stares,\n",
      "A stranger's face, with lines and wrinkles, worn and shared,\n",
      "A life lived, like a book, with pages turned,\n",
      "A story told, in moments, like a burning concern.\n",
      "\n",
      "The wind howls on, like a mournful sigh,\n",
      "A lonely whisper, that echoes through the sky,\n",
      "A reminder of, what's lost and gone,\n",
      "A fleeting glimpse, of what's yet to come.\n",
      "\n",
      "And yet, we hold on, to the fragile thread,\n",
      "A lifeline's grasp, a moment's dread,\n",
      "We cling to hope, like a beacon's light,\n",
      "A guiding star, that shines through the dark of night.\n",
      "\n",
      "For in the end, it's not the years we live,\n",
      "But the life we live, in the moments we give,\n",
      "A dance with time, a waltz with fate,\n",
      "A struggle to keep pace, to hold on to a moment's state.\n",
      "\n",
      "So we'll keep on moving, through the dark of night,\n",
      "With the echoes of eternity, as our guiding light,\n",
      "We'll chase the hours, like autumn leaves,\n",
      "And hold on to the moments, that weaves our lives.\n"
     ]
    }
   ],
   "source": [
    "print(state[\"output\"])"
   ]
  },
  {
   "cell_type": "code",
   "execution_count": null,
   "id": "b51cb13a",
   "metadata": {},
   "outputs": [],
   "source": []
  },
  {
   "cell_type": "code",
   "execution_count": null,
   "id": "437f5959",
   "metadata": {},
   "outputs": [],
   "source": []
  }
 ],
 "metadata": {
  "kernelspec": {
   "display_name": "Python 3",
   "language": "python",
   "name": "python3"
  },
  "language_info": {
   "codemirror_mode": {
    "name": "ipython",
    "version": 3
   },
   "file_extension": ".py",
   "mimetype": "text/x-python",
   "name": "python",
   "nbconvert_exporter": "python",
   "pygments_lexer": "ipython3",
   "version": "3.12.0"
  }
 },
 "nbformat": 4,
 "nbformat_minor": 5
}
