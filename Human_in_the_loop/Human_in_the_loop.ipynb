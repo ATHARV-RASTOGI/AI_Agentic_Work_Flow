{
 "cells": [
  {
   "cell_type": "code",
   "execution_count": 40,
   "id": "14e0207b",
   "metadata": {},
   "outputs": [
    {
     "data": {
      "text/plain": [
       "AIMessage(content='Hola. ¿Cómo estás?', additional_kwargs={}, response_metadata={'token_usage': {'completion_tokens': 8, 'prompt_tokens': 37, 'total_tokens': 45, 'completion_time': 0.01357722, 'prompt_time': 0.001659696, 'queue_time': 2.761152787, 'total_time': 0.015236916}, 'model_name': 'llama-3.1-8b-instant', 'system_fingerprint': 'fp_90c2e79dab', 'service_tier': 'on_demand', 'finish_reason': 'stop', 'logprobs': None}, id='run--15cf8e97-169a-4894-a2ef-4212152e1200-0', usage_metadata={'input_tokens': 37, 'output_tokens': 8, 'total_tokens': 45})"
      ]
     },
     "execution_count": 40,
     "metadata": {},
     "output_type": "execute_result"
    }
   ],
   "source": [
    "from dotenv import load_dotenv\n",
    "load_dotenv()\n",
    "import os\n",
    "\n",
    "from langchain_groq import ChatGroq\n",
    "os.environ[\"GROQ_API_KEY\"]=os.getenv(\"GROQ_API_KEY\")\n",
    "llm=ChatGroq(model=\"llama-3.1-8b-instant\")\n",
    "result=llm.invoke(\"hola\")\n",
    "result"
   ]
  },
  {
   "cell_type": "code",
   "execution_count": 41,
   "metadata": {},
   "outputs": [
    {
     "data": {
      "text/plain": [
       "[<function __main__.add(a: int, b: int) -> int>,\n",
       " <function __main__.multiply(a: int, b: int) -> int>,\n",
       " <function __main__.divide(a: int, b: int) -> int>]"
      ]
     },
     "execution_count": 41,
     "metadata": {},
     "output_type": "execute_result"
    }
   ],
   "source": [
    "##Tools \n",
    "\n",
    "def multiply(a:int,b:int)->int:\n",
    "    \"\"\"Multiply a and b\n",
    "\n",
    "    Args :\n",
    "        a:first int\n",
    "        b:second int\n",
    "    \"\"\"\n",
    "    return a*b\n",
    "\n",
    "def add(a:int,b:int)->int:\n",
    "    \"\"\"Add a and b\n",
    "\n",
    "    Args :\n",
    "        a:first int\n",
    "        b:second int\n",
    "    \"\"\"\n",
    "    return a+b\n",
    "\n",
    "def divide(a:int,b:int)->int:\n",
    "    \"\"\"Divide a and b\n",
    "\n",
    "    Args :\n",
    "        a:first int\n",
    "        b:second int\n",
    "    \"\"\"\n",
    "    return a / b\n",
    "\n",
    "tools=[add,multiply,divide]\n",
    "tools"
   ]
  },
  {
   "cell_type": "code",
   "execution_count": 42,
   "id": "ba2718f2",
   "metadata": {},
   "outputs": [
    {
     "data": {
      "text/plain": [
       "RunnableBinding(bound=ChatGroq(client=<groq.resources.chat.completions.Completions object at 0x000001807D030830>, async_client=<groq.resources.chat.completions.AsyncCompletions object at 0x000001807D032630>, model_name='llama-3.1-8b-instant', model_kwargs={}, groq_api_key=SecretStr('**********')), kwargs={'tools': [{'type': 'function', 'function': {'name': 'add', 'description': 'Add a and b Args :\\n    a:first int\\n    b:second int', 'parameters': {'properties': {'a': {'type': 'integer'}, 'b': {'type': 'integer'}}, 'required': ['a', 'b'], 'type': 'object'}}}, {'type': 'function', 'function': {'name': 'multiply', 'description': 'Multiply a and b Args :\\n    a:first int\\n    b:second int', 'parameters': {'properties': {'a': {'type': 'integer'}, 'b': {'type': 'integer'}}, 'required': ['a', 'b'], 'type': 'object'}}}, {'type': 'function', 'function': {'name': 'divide', 'description': 'Divide a and b Args :\\n    a:first int\\n    b:second int', 'parameters': {'properties': {'a': {'type': 'integer'}, 'b': {'type': 'integer'}}, 'required': ['a', 'b'], 'type': 'object'}}}]}, config={}, config_factories=[])"
      ]
     },
     "execution_count": 42,
     "metadata": {},
     "output_type": "execute_result"
    }
   ],
   "source": [
    "##Integrate tools\n",
    "\n",
    "llm_with_tools=llm.bind_tools(tools)\n",
    "llm_with_tools"
   ]
  },
  {
   "cell_type": "code",
   "execution_count": null,
   "id": "30fc7840",
   "metadata": {},
   "outputs": [],
   "source": [
    "##Workfolw with langgraph\n",
    "\n",
    "from IPython.display import Image ,display\n",
    "from langgraph.graph import MessagesState\n",
    "from langgraph.graph import START, StateGraph\n",
    "from langgraph.checkpoint.memory import MemorySaver\n",
    "from langgraph.prebuilt import tools_condition,ToolNode\n",
    "from langchain_core.messages import AIMessage,HumanMessage,SystemMessage\n",
    "\n",
    "sys_msg=SystemMessage(content=\"You are a helpful AI assitance taked with performing arithmatic on a set of values\")"
   ]
  },
  {
   "cell_type": "code",
   "execution_count": null,
   "metadata": {},
   "outputs": [
    {
     "data": {
      "image/png": "[encoded data removed]",
      "text/plain": [
       "<IPython.core.display.Image object>"
      ]
     },
     "metadata": {},
     "output_type": "display_data"
    }
   ],
   "source": [
    "def assistant(state:MessagesState):\n",
    "    return{\"messages\":[llm_with_tools.invoke([sys_msg]+state[\"messages\"])]}\n",
    "\n",
    "\n",
    "builder=StateGraph(MessagesState)\n",
    "builder.add_node(\"assistant\",assistant)\n",
    "builder.add_node(\"tools\",ToolNode(tools))\n",
    "\n",
    "builder.add_edge(START,\"assistant\")\n",
    "\n",
    "builder.add_conditional_edges(\n",
    "    \"assistant\",\n",
    "    tools_condition,\n",
    ")\n",
    "builder.add_edge(\"tools\",\"assistant\")\n",
    "memeory=MemorySaver()\n",
    "\n",
    "graph=builder.compile(interrupt_after=[\"assistant\"],checkpointer=memeory)\n",
    "display(Image(graph.get_graph().draw_mermaid_png()))\n",
    " "
   ]
  },
  {
   "cell_type": "code",
   "execution_count": 48,
   "id": "978f4e25",
   "metadata": {},
   "outputs": [],
   "source": [
    "thread = {\"configurable\": {\"thread_id\": \"123\"}}\n",
    "initial_input = {\"messages\": [HumanMessage(content=\"multiply 2 and 3\")]}"
   ]
  },
  {
   "cell_type": "code",
   "execution_count": 49,
   "id": "ee925fe3",
   "metadata": {},
   "outputs": [
    {
     "name": "stdout",
     "output_type": "stream",
     "text": [
      "================================\u001b[1m Human Message \u001b[0m=================================\n",
      "\n",
      "multiply 2 and 3\n",
      "==================================\u001b[1m Ai Message \u001b[0m==================================\n",
      "Tool Calls:\n",
      "  multiply (yzrrbss7j)\n",
      " Call ID: yzrrbss7j\n",
      "  Args:\n",
      "    a: 2\n",
      "    b: 3\n"
     ]
    }
   ],
   "source": [
    "for event in graph.stream(initial_input,thread,stream_mode=\"values\"):\n",
    "    event['messages'][-1].pretty_print()"
   ]
  },
  {
   "cell_type": "code",
   "execution_count": null,
   "id": "4f583787",
   "metadata": {},
   "outputs": [
    {
     "data": {
      "text/plain": [
       "()"
      ]
     },
     "execution_count": 54,
     "metadata": {},
     "output_type": "execute_result"
    }
   ],
   "source": [
    "state=graph.get_state(thread)\n",
    "state"
   ]
  },
  {
   "cell_type": "code",
   "execution_count": 57,
   "id": "03bc5a91",
   "metadata": {},
   "outputs": [
    {
     "data": {
      "text/plain": [
       "<generator object Pregel.get_state_history at 0x000001807C7BFB60>"
      ]
     },
     "execution_count": 57,
     "metadata": {},
     "output_type": "execute_result"
    }
   ],
   "source": [
    "graph.get_state_history(thread)"
   ]
  },
  {
   "cell_type": "code",
   "execution_count": 63,
   "id": "e0fa774e",
   "metadata": {},
   "outputs": [
    {
     "name": "stdout",
     "output_type": "stream",
     "text": [
      "==================================\u001b[1m Ai Message \u001b[0m==================================\n",
      "Tool Calls:\n",
      "  divide (939p5p5z1)\n",
      " Call ID: 939p5p5z1\n",
      "  Args:\n",
      "    a: 10\n",
      "    b: 2\n",
      "==================================\u001b[1m Ai Message \u001b[0m==================================\n"
     ]
    }
   ],
   "source": [
    "for event in graph.stream(initial_input,thread,stream_mode=\"values\"):\n",
    "    event['messages'][-1].pretty_print()"
   ]
  },
  {
   "cell_type": "code",
   "execution_count": 68,
   "id": "8b932fc6",
   "metadata": {},
   "outputs": [
    {
     "data": {
      "text/plain": [
       "{'configurable': {'thread_id': '123',\n",
       "  'checkpoint_ns': '',\n",
       "  'checkpoint_id': '1f099cbe-85fa-6766-800e-ef2e6cec2f1b'}}"
      ]
     },
     "execution_count": 68,
     "metadata": {},
     "output_type": "execute_result"
    }
   ],
   "source": [
    "graph.update_state(thread,{\"messages\":[HumanMessage(content=\"No please multiply 6 and 7\")]})"
   ]
  },
  {
   "cell_type": "code",
   "execution_count": 69,
   "id": "742afbde",
   "metadata": {},
   "outputs": [
    {
     "name": "stdout",
     "output_type": "stream",
     "text": [
      "================================\u001b[1m Human Message \u001b[0m=================================\n",
      "\n",
      "multiply 2 and 3\n",
      "==================================\u001b[1m Ai Message \u001b[0m==================================\n",
      "Tool Calls:\n",
      "  multiply (ft74v0yhn)\n",
      " Call ID: ft74v0yhn\n",
      "  Args:\n",
      "    a: 2\n",
      "    b: 3\n",
      "=================================\u001b[1m Tool Message \u001b[0m=================================\n",
      "Name: multiply\n",
      "\n",
      "6\n",
      "==================================\u001b[1m Ai Message \u001b[0m==================================\n",
      "Tool Calls:\n",
      "  add (3yhy4033q)\n",
      " Call ID: 3yhy4033q\n",
      "  Args:\n",
      "    a: 6\n",
      "    b: 4\n",
      "=================================\u001b[1m Tool Message \u001b[0m=================================\n",
      "Name: add\n",
      "\n",
      "10\n",
      "==================================\u001b[1m Ai Message \u001b[0m==================================\n",
      "Tool Calls:\n",
      "  divide (6st6dab6w)\n",
      " Call ID: 6st6dab6w\n",
      "  Args:\n",
      "    a: 10\n",
      "    b: 5\n",
      "=================================\u001b[1m Tool Message \u001b[0m=================================\n",
      "Name: divide\n",
      "\n",
      "2.0\n",
      "==================================\u001b[1m Ai Message \u001b[0m==================================\n",
      "Tool Calls:\n",
      "  multiply (4w48x7mmt)\n",
      " Call ID: 4w48x7mmt\n",
      "  Args:\n",
      "    a: 2\n",
      "    b: 5\n",
      "=================================\u001b[1m Tool Message \u001b[0m=================================\n",
      "Name: multiply\n",
      "\n",
      "10\n",
      "==================================\u001b[1m Ai Message \u001b[0m==================================\n",
      "Tool Calls:\n",
      "  divide (939p5p5z1)\n",
      " Call ID: 939p5p5z1\n",
      "  Args:\n",
      "    a: 10\n",
      "    b: 2\n",
      "==================================\u001b[1m Ai Message \u001b[0m==================================\n",
      "================================\u001b[1m Human Message \u001b[0m=================================\n",
      "\n",
      "No please multiplt 6 and 7\n",
      "================================\u001b[1m Human Message \u001b[0m=================================\n",
      "\n",
      "No please multiply 6 and 7\n"
     ]
    }
   ],
   "source": [
    "new_state=graph.get_state(thread).values\n",
    "for m in new_state['messages']:\n",
    "    m.pretty_print()"
   ]
  },
  {
   "cell_type": "code",
   "execution_count": 72,
   "id": "b44da4b4",
   "metadata": {},
   "outputs": [
    {
     "name": "stdout",
     "output_type": "stream",
     "text": [
      "================================\u001b[1m Human Message \u001b[0m=================================\n",
      "\n",
      "No please multiply 6 and 7\n",
      "==================================\u001b[1m Ai Message \u001b[0m==================================\n",
      "Tool Calls:\n",
      "  multiply (gb2z57c6t)\n",
      " Call ID: gb2z57c6t\n",
      "  Args:\n",
      "    a: 6\n",
      "    b: 7\n"
     ]
    }
   ],
   "source": [
    "for event in graph.stream(initial_input,thread,stream_mode=\"values\"):\n",
    "    event[\"messages\"][-1].pretty_print()"
   ]
  },
  {
   "cell_type": "code",
   "execution_count": null,
   "id": "dec093d4",
   "metadata": {},
   "outputs": [],
   "source": []
  },
  {
   "cell_type": "code",
   "execution_count": 77,
   "id": "0a518b2b",
   "metadata": {},
   "outputs": [
    {
     "data": {
      "image/png": "[encoded data removed]",
      "text/plain": [
       "<IPython.core.display.Image object>"
      ]
     },
     "metadata": {},
     "output_type": "display_data"
    }
   ],
   "source": [
    "sys_msg=SystemMessage(content=\"You are a helpful AI assitance taked with performing arithmatic operations on a set of values\")\n",
    "\n",
    "def Human_feedback(state:MessagesState):\n",
    "    pass\n",
    "\n",
    "def assistant(state:MessagesState):\n",
    "    return{\"messages\":[llm_with_tools.invoke([sys_msg]+state[\"messages\"])]}\n",
    "\n",
    "builder=StateGraph(MessagesState)\n",
    "\n",
    "builder.add_node(\"Human_feedback\",Human_feedback)\n",
    "builder.add_node(\"tools\",ToolNode(tools))\n",
    "builder.add_node(\"assistant\",assistant)\n",
    "\n",
    "builder.add_edge(START,\"Human_feedback\")\n",
    "builder.add_edge(\"Human_feedback\",\"assistant\")\n",
    "builder.add_conditional_edges(\n",
    "    \"assistant\",\n",
    "    tools_condition,\n",
    ")\n",
    "builder.add_edge(\"tools\",\"Human_feedback\")\n",
    "memory=MemorySaver()\n",
    "graph=builder.compile(interrupt_before=[\"Human_feedback\"],checkpointer=memory)\n",
    "display(Image(graph.get_graph().draw_mermaid_png()))"
   ]
  },
  {
   "cell_type": "code",
   "execution_count": 80,
   "id": "e5fac82c",
   "metadata": {},
   "outputs": [
    {
     "name": "stdout",
     "output_type": "stream",
     "text": [
      "================================\u001b[1m Human Message \u001b[0m=================================\n",
      "\n",
      "plaese multiply 6 and 7\n",
      "==================================\u001b[1m Ai Message \u001b[0m==================================\n",
      "Tool Calls:\n",
      "  multiply (ah3wm4wd4)\n",
      " Call ID: ah3wm4wd4\n",
      "  Args:\n",
      "    a: 6\n",
      "    b: 7\n",
      "=================================\u001b[1m Tool Message \u001b[0m=================================\n",
      "Name: multiply\n",
      "\n",
      "42\n"
     ]
    }
   ],
   "source": [
    "initial_input={\"message\":\"Multiply 7 and 8\"}\n",
    "\n",
    "thread={\"configurable\":{\"thread_id\":\"8\"}}\n",
    "\n",
    "for event in graph.stream(initial_input,thread,stream_mode=\"values\"):\n",
    "    event[\"messages\"][-1].pretty_print()\n",
    "\n",
    "user_input=input(\"Tell me hoe you wnat to update the state\")\n",
    "graph.update_state(thread,{\"messages\":user_input},as_node=\"Human_feedback\")\n",
    "\n",
    "for event in graph.stream(None,thread,stream_mode=\"values\"):\n",
    "    event[\"messages\"][-1].pretty_print()\n"
   ]
  },
  {
   "cell_type": "code",
   "execution_count": null,
   "id": "58f2759e",
   "metadata": {},
   "outputs": [],
   "source": []
  }
 ],
 "metadata": {
  "kernelspec": {
   "display_name": "Python 3",
   "language": "python",
   "name": "python3"
  },
  "language_info": {
   "codemirror_mode": {
    "name": "ipython",
    "version": 3
   },
   "file_extension": ".py",
   "mimetype": "text/x-python",
   "name": "python",
   "nbconvert_exporter": "python",
   "pygments_lexer": "ipython3",
   "version": "3.12.0"
  }
 },
 "nbformat": 4,
 "nbformat_minor": 5
}
