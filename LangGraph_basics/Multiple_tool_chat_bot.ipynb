{
 "cells": [
  {
   "cell_type": "code",
   "execution_count": 2,
   "id": "e4e641aa",
   "metadata": {},
   "outputs": [],
   "source": [
    "from langchain_community.tools import ArxivQueryRun,WikipediaQueryRun\n",
    "from langchain_community.utilities import WikipediaAPIWrapper,ArxivAPIWrapper"
   ]
  },
  {
   "cell_type": "code",
   "execution_count": 41,
   "id": "138bd827",
   "metadata": {},
   "outputs": [],
   "source": [
    "api_wrapper_arxiv=ArxivAPIWrapper(top_k_results=3, doc_content_chars_max=1000)\n",
    "arxiv=ArxivQueryRun(api_wrapper=api_wrapper_arxiv)"
   ]
  },
  {
   "cell_type": "code",
   "execution_count": 5,
   "id": "c05baadb",
   "metadata": {},
   "outputs": [
    {
     "name": "stdout",
     "output_type": "stream",
     "text": [
      "arxiv\n"
     ]
    }
   ],
   "source": [
    "print(arxiv.name)"
   ]
  },
  {
   "cell_type": "code",
   "execution_count": 13,
   "id": "65b8e707",
   "metadata": {},
   "outputs": [
    {
     "data": {
      "text/plain": [
       "'Published: 1996-07-17\\nTitle: Relic gravitons from the pre-big bang: what we know and what we do not know\\nAuthors: M. Gasperini\\nSummary: I discuss the status of present knowledge about a possible background of\\nrelic gravitons left by an early, pre-big bang cosmological epoch, whose\\nexistence in the past of our Universe is suggested by the duality symmetries of\\nstring theory.\\n\\nPublished: 2019-11-14\\nTitle: Hadronic Strings -- A Revisit in the Shade of Moonshine\\nAuthors: Lars Brink\\nSummary: When asked to write a contribution to the memorial volume for Peter Freund I\\nwent through my memory of the f'"
      ]
     },
     "execution_count": 13,
     "metadata": {},
     "output_type": "execute_result"
    }
   ],
   "source": [
    "arxiv.invoke(\"What do you know about String theory in physics\")"
   ]
  },
  {
   "cell_type": "code",
   "execution_count": 42,
   "id": "584eafd2",
   "metadata": {},
   "outputs": [
    {
     "data": {
      "text/plain": [
       "'wikipedia'"
      ]
     },
     "execution_count": 42,
     "metadata": {},
     "output_type": "execute_result"
    }
   ],
   "source": [
    "api_wrapper_wiki=WikipediaAPIWrapper(top_k_results=1,doc_content_chars_max=1000)\n",
    "wiki=WikipediaQueryRun(api_wrapper=api_wrapper_wiki)\n",
    "wiki.name"
   ]
  },
  {
   "cell_type": "code",
   "execution_count": 17,
   "id": "3075c415",
   "metadata": {},
   "outputs": [
    {
     "data": {
      "text/plain": [
       "\"Page: India\\nSummary: India, officially the Republic of India, is a country in South Asia.  It is the seventh-largest country by area; the most populous country since 2023; and, since its independence in 1947, the world's most populous democracy. Bounded by the Indian Ocean on the south, the Arabian Sea on the southwest, and the Bay of Bengal on the southeast, it shares land borders with Pakistan t\""
      ]
     },
     "execution_count": 17,
     "metadata": {},
     "output_type": "execute_result"
    }
   ],
   "source": [
    "wiki.invoke(\"About India\")"
   ]
  },
  {
   "cell_type": "markdown",
   "id": "f6fd81e7",
   "metadata": {},
   "source": [
    "Taviliy is a ai search enginr specificly fro ai"
   ]
  },
  {
   "cell_type": "code",
   "execution_count": 18,
   "id": "088dfcbc",
   "metadata": {},
   "outputs": [],
   "source": [
    "from dotenv import load_dotenv\n",
    "load_dotenv()\n",
    "\n",
    "import os\n",
    "\n",
    "os.environ[\"TAVILY_API_KEY\"]=os.getenv(\"TAVILY_API_KEY\")\n",
    "os.environ[\"GROQ_API_KEY\"]=os.getenv(\"GROQ_API_KEY\")"
   ]
  },
  {
   "cell_type": "code",
   "execution_count": 20,
   "id": "aeeee855",
   "metadata": {},
   "outputs": [
    {
     "data": {
      "text/plain": [
       "[{'title': '2025 Nepalese Gen Z protests - Wikipedia',\n",
       "  'url': 'https://en.wikipedia.org/wiki/2025_Nepalese_Gen_Z_protests',\n",
       "  'content': 'On 9 September 2025, former King Gyanendra Shah called for calm and resolution be found internally. On that same day, Prime Minister K. P. Sharma Oli, along with a few government ministers, resigned, and on 12 September 2025, Sushila Karki was appointed as interim Prime Minister of Nepal. By 13 September 2025 the protests had died down.\\n\\n## Background [...] | 2025 Nepalese Gen Z protests | |\\n --- |\\n| Clockwise from the top: Protesters burn down a government office • Student demonstrations • Protesters celebrating in front of a burning government office • A protestor climbing onto a gate while the Singha Durbar burns. | |\\n| Date | 8 September 2025 (2025-09-08) – 13 September 2025 (2025-09-13) (5 days) |\\n| Location | Nepal |\\n| Caused by |  Government corruption and nepotism  Government ban on social media platforms | [...] Protestors held online discussions to select the interim leader. Around 10:00 pm NPT, the group voted and selected Sushila Karki. Balen Shah and Kul Man Ghising were other candidates. Balen reportedly did not pick up the phone. Durga Prasai separately met with the army chief, but no concrete conclusion was met. Karki confirmed her willingness to accept the role in an interview with News18.\\n\\nIn Pokhara, two dead bodies were found inside a burned house at Nayabazar and Lakeside.',\n",
       "  'score': 0.69049704},\n",
       " {'title': 'A parliament in flames, a leader toppled. Nepal Gen-Z protesters ask',\n",
       "  'url': 'https://www.cnn.com/2025/09/10/asia/nepal-protests-gen-z-outcome-intl-hnk',\n",
       "  'content': 'Protesters smashed windows and looted local businesses and set government buildings on fire. The country’s main international airport reopened on Wednesday after being shut for 24 hours because of the violence, spokesperson for the Civil Aviation Authority of Nepal, Gyanendra Bhul, told CNN. The Supreme Court and the Singha Durbar, a sprawling palace complex in Kathmandu which houses Nepal’s government ministries, were both set on fire. [...] But the protests quickly spiraled out of control when some of the protesters surged towards the parliament building and began climbing up the gate, clashing with police. Police used live ammunition, water cannons, and tear gas against the protesters, according to Reuters news agency.\\n\\nNearly 19 people were killed and hundreds were wounded in the clashes Monday, according to Nepali authorities.\\n\\n“We all felt very hopeless and helpless at that point,” Shrestha said. [...] Video also appeared to show demonstrators ransacking Prime Minister KP Sharma Oli’s private residence on Tuesday, Reuters reported. Crowds of protesters could be seen breaking into the property and destroying furniture before setting it alight.\\n\\nThe protests, which are led by people ages 13 to 28 – the cohort known as Generation Z – are Nepal’s worst unrest in years.',\n",
       "  'score': 0.6158511},\n",
       " {'title': \"Nepal's Gen Z demands reform as country begins new political path\",\n",
       "  'url': 'https://www.abc.net.au/news/2025-09-15/nepal-generation-z-anti-corruption-protests-kathmandu/105773042',\n",
       "  'content': 'A calm has fallen on Nepal\\'s streets after days of violence and chaos. But leaders of the gen Z protest movement say the work\\'s not done.\\n\\nAuthorities in Nepal have raised the death toll from last week\\'s unrest to 72 as search teams recover bodies from government offices, houses and other buildings set on fire during the anti-corruption protests, the health ministry said on Sunday. [...] At least 72 people were killed and more than 2,000 injured during the anti-corruption protests.\\n \\n \\n  (AP: Niranjan Shrestha)\\n\\nNepal\\'s deadliest outbreak of political violence in decades has led the country to a new dawn.\\n\\nEarly last week, mostly Gen Z protesters took to the streets of Kathmandu and other cities, prompting Prime Minister Khadga Prasad Oli to resign on Tuesday. [...] Three people smile for a selfie in front of the burning Singha Durbar building\\n\\nNepal\\'s \"gen Z\" protests were sparked by a crackdown on social media platforms, but demonstrators say their anger went far beyond that. (AP: Niranjan Shrestha)\\n\\nMr Adhikary and others called on the government to set up an independent commission to investigate corruption under the former prime minister.',\n",
       "  'score': 0.61363083},\n",
       " {'title': \"Nepal's new prime minister urges calm after deadly protests - CBC\",\n",
       "  'url': 'https://www.cbc.ca/news/world/nepal-new-prime-minister-deadly-protests-1.7633525',\n",
       "  'content': \"Calm was restored after the army took control of the streets that night, and negotiations between protesters, the army and the president began over an interim government.\\n\\nKarki, 73, was named the interim prime minister on Friday. She was a popular figure while serving as the Supreme Court's only female chief justice in 2016 and 2017, and was known for her stance against corruption in the government.\\n\\nFresh parliamentary elections have been set for March 5.\\n\\n## Related Stories\\n\\n## Footer Links [...] The actual office of the prime minister — an old white-coloured palace converted to an office — was burned down, along with the offices of the president, the Supreme Court, key government ministries and several police stations on Tuesday, a day after police shot at protesters. The businesses and houses of key families were also attacked, including several stores of a popular supermarket chain in Nepal. [...] The protests soon turned violent, with protesters attacking the parliament building and police opening fire, and led to the resignation of Prime Minister Khadga Prasad Oli, who fled his official residence.\\n\\nSocial media bans and protests in Nepal explained by international affairs expert\",\n",
       "  'score': 0.52203226},\n",
       " {'title': \"The key issues that drove Gen Z protests that toppled Nepal's ... - PBS\",\n",
       "  'url': 'https://www.pbs.org/newshour/show/the-key-issues-that-drove-gen-z-protests-that-toppled-nepals-government',\n",
       "  'content': 'Watch the Full Episode\\n\\n## Related\\n\\nSep 14\\n\\nNewly sworn-in Nepal’s interim Prime Minister, Sushila Karki arrives at a hospital to meet the victims of Monday’s deadly ...\\n\\nBy Binaj Gurubacharya, Associated Press\\n\\nSep 13\\n\\nVigil in memory of people who died during the anti-graft protest in front of the parliament in Kathmandu\\n\\nBy Binaj Gurubacharya, Associated Press\\n\\nSep 08\\n\\nProtest against corruption and government’s decision to block several social media platforms, in Kathmandu [...] Nepal finds new calm this weekend with the appointment of an interim prime minister, following an extraordinary week of violence. More than 70 people died after anti-corruption protests led to police clashes and government buildings being set aflame. Lisa Desjardins speaks with Alex Travelli, a South Asia business correspondent for The New York Times, about the situation in Kathmandu.\\n\\n## Listen to this Segment\\n\\nAftermath of Israeli strikes in the town of Ansariyeh, south of Sidon [...] Politics\\nArts\\nNation\\nWorld\\nEconomy\\nScience\\nHealth\\nEducation\\nEducation\\n\\n## Clarity when it matters most\\n\\n#### Get news alerts from PBS News\\n\\n##### Turn on desktop notifications?\\n\\n# The key issues that drove Gen Z protests that toppled Nepal’s government\\n\\nLisa Desjardins\\n\\nLisa Desjardins\\nLisa Desjardins\\n\\nSatvi Sunkara\\nSatvi Sunkara\\n\\nLeave your feedback',\n",
       "  'score': 0.47753036}]"
      ]
     },
     "execution_count": 20,
     "metadata": {},
     "output_type": "execute_result"
    }
   ],
   "source": [
    "from langchain_community.tools.tavily_search import TavilySearchResults\n",
    "\n",
    "tavily=TavilySearchResults()\n",
    "tavily.invoke(\"Latest news relates to Nepla protest\")"
   ]
  },
  {
   "cell_type": "code",
   "execution_count": 22,
   "id": "5c290040",
   "metadata": {},
   "outputs": [],
   "source": [
    "## combining all the tools in a list \n",
    "\n",
    "tools=[arxiv,wiki,tavily]\n"
   ]
  },
  {
   "cell_type": "code",
   "execution_count": 23,
   "id": "702d693d",
   "metadata": {},
   "outputs": [],
   "source": [
    "## initilaizattion if llm model\n",
    "\n",
    "from langchain_groq import ChatGroq\n",
    "\n",
    "llm=ChatGroq(model=\"gemma2-9b-it\")\n",
    "\n",
    "llm_with_tools=llm.bind_tools(tools)\n"
   ]
  },
  {
   "cell_type": "code",
   "execution_count": 26,
   "id": "b0e65acc",
   "metadata": {},
   "outputs": [],
   "source": [
    "from pprint import pprint\n",
    "from langchain_core.messages import AIMessage,HumanMessage\n",
    "\n",
    "see_call=llm_with_tools.invoke([HumanMessage(content=f\"What is recent Ai tend\")])"
   ]
  },
  {
   "cell_type": "code",
   "execution_count": 27,
   "id": "dfff8321",
   "metadata": {},
   "outputs": [
    {
     "data": {
      "text/plain": [
       "[{'name': 'tavily_search_results_json',\n",
       "  'args': {'query': 'recent ai trends'},\n",
       "  'id': 'r1e9kdcap',\n",
       "  'type': 'tool_call'}]"
      ]
     },
     "execution_count": 27,
     "metadata": {},
     "output_type": "execute_result"
    }
   ],
   "source": [
    "see_call.tool_calls"
   ]
  },
  {
   "cell_type": "code",
   "execution_count": 28,
   "id": "d1bf2ef4",
   "metadata": {},
   "outputs": [],
   "source": [
    "##State schema \n",
    "from typing_extensions import TypedDict\n",
    "from langchain_core.messages import AnyMessage\n",
    "from typing import Annotated\n",
    "from langgraph.graph.message import add_messages\n",
    "\n",
    "class State(TypedDict):\n",
    "    messages:Annotated[list[AnyMessage],add_messages]"
   ]
  },
  {
   "cell_type": "code",
   "execution_count": 38,
   "id": "ee51c995",
   "metadata": {},
   "outputs": [
    {
     "data": {
      "image/png": "[encoded data removed]",
      "text/plain": [
       "<IPython.core.display.Image object>"
      ]
     },
     "metadata": {},
     "output_type": "display_data"
    }
   ],
   "source": [
    "## entire chatboting\n",
    "\n",
    "from IPython.display import Image,display\n",
    "from langgraph.graph import StateGraph,START,END\n",
    "from langgraph.prebuilt import ToolNode\n",
    "from langgraph.prebuilt import tools_condition \n",
    "\n",
    "## Node Definition \n",
    "def tool_calling_llm(state:State):\n",
    "    return {\"messages\":[llm_with_tools.invoke(state[\"messages\"])]}\n",
    "\n",
    "#builder \n",
    "builder=StateGraph(State)\n",
    "builder.add_node(\"tools_calling_llm\",tool_calling_llm)\n",
    "builder.add_node(\"tools\",ToolNode(tools))\n",
    "\n",
    "builder.add_edge(START, \"tools_calling_llm\")\n",
    "builder.add_conditional_edges(\n",
    "    \"tools_calling_llm\",\n",
    "    tools_condition,\n",
    ")\n",
    "builder.add_edge(\"tools\",END)\n",
    "\n",
    "graph =builder.compile()\n",
    "display(Image(graph.get_graph().draw_mermaid_png()))"
   ]
  },
  {
   "cell_type": "code",
   "execution_count": 45,
   "id": "09072314",
   "metadata": {},
   "outputs": [
    {
     "name": "stdout",
     "output_type": "stream",
     "text": [
      "================================\u001b[1m Human Message \u001b[0m=================================\n",
      "\n",
      "What is llm research \n",
      "==================================\u001b[1m Ai Message \u001b[0m==================================\n",
      "Tool Calls:\n",
      "  wikipedia (3hzqx2x1h)\n",
      " Call ID: 3hzqx2x1h\n",
      "  Args:\n",
      "    query: LLM research\n",
      "=================================\u001b[1m Tool Message \u001b[0m=================================\n",
      "Name: wikipedia\n",
      "\n",
      "Page: Large language model\n",
      "Summary: A large language model (LLM) is a language model trained with self-supervised machine learning on a vast amount of text, designed for natural language processing tasks, especially language generation.\n",
      "The largest and most capable LLMs are generative pre-trained transformers (GPTs), based on a transformer architecture, which are largely used in generative chatbot\n"
     ]
    }
   ],
   "source": [
    "messages=graph.invoke({\"messages\":HumanMessage(content=\"What is llm research \")})\n",
    "for m in messages['messages']:\n",
    "    m.pretty_print()"
   ]
  },
  {
   "cell_type": "code",
   "execution_count": null,
   "id": "12304524",
   "metadata": {},
   "outputs": [],
   "source": []
  }
 ],
 "metadata": {
  "kernelspec": {
   "display_name": "Python 3",
   "language": "python",
   "name": "python3"
  },
  "language_info": {
   "codemirror_mode": {
    "name": "ipython",
    "version": 3
   },
   "file_extension": ".py",
   "mimetype": "text/x-python",
   "name": "python",
   "nbconvert_exporter": "python",
   "pygments_lexer": "ipython3",
   "version": "3.12.0"
  }
 },
 "nbformat": 4,
 "nbformat_minor": 5
}
