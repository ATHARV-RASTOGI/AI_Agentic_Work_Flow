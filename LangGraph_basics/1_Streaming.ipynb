{
 "cells": [
  {
   "cell_type": "code",
   "execution_count": 1,
   "id": "200f2289",
   "metadata": {},
   "outputs": [],
   "source": [
    "from typing_extensions import TypedDict\n",
    "from langgraph.graph import StateGraph,START,END\n",
    "\n",
    "#reducers --> add_message (package)\n",
    "from typing import Annotated\n",
    "from langgraph.graph.message import add_messages"
   ]
  },
  {
   "cell_type": "code",
   "execution_count": 2,
   "id": "0ab16576",
   "metadata": {},
   "outputs": [],
   "source": [
    "# in form of key value pair \n",
    "class state_ones(TypedDict):\n",
    "    messages:Annotated[list,add_messages]"
   ]
  },
  {
   "cell_type": "code",
   "execution_count": 3,
   "id": "2677d0a8",
   "metadata": {},
   "outputs": [],
   "source": [
    "import os\n",
    "from dotenv import load_dotenv\n",
    "load_dotenv()\n",
    "os.environ[\"GROQ_API_KEY\"]=os.getenv(\"GROQ_API_KEY\")\n",
    "os.environ[\"LANGCHAIN_API_KEY\"]=os.getenv(\"LANGCHAIN_API_KEY\")\n"
   ]
  },
  {
   "cell_type": "code",
   "execution_count": 4,
   "id": "6ab9d6d5",
   "metadata": {},
   "outputs": [],
   "source": [
    "from langchain_groq import ChatGroq\n",
    "\n",
    "llm=ChatGroq(model=\"llama-3.1-8b-instant\")\n"
   ]
  },
  {
   "cell_type": "code",
   "execution_count": 5,
   "id": "c3b02cd4",
   "metadata": {},
   "outputs": [],
   "source": [
    "\n",
    "\n",
    "## START WITH THE NODES\n",
    "## REDUCERS \n",
    "def Superbot(C_state:state_ones):\n",
    "    return {\"messages\":[llm.invoke(C_state['messages'])]}    "
   ]
  },
  {
   "cell_type": "code",
   "execution_count": 6,
   "id": "f44afe39",
   "metadata": {},
   "outputs": [
    {
     "data": {
      "image/png": "[encoded data removed]",
      "text/plain": [
       "<IPython.core.display.Image object>"
      ]
     },
     "metadata": {},
     "output_type": "display_data"
    }
   ],
   "source": [
    "\n",
    "from langgraph.checkpoint.memory import MemorySaver\n",
    "from IPython.display import Image,display\n",
    "\n",
    "graph=StateGraph(state_ones)\n",
    "#node\n",
    "graph.add_node(\"Superbot\",Superbot)\n",
    "\n",
    "#edges\n",
    "graph.add_edge(START,\"Superbot\")\n",
    "graph.add_edge(\"Superbot\",END)\n",
    "\n",
    "memory=MemorySaver()\n",
    "graph_wih_mem=graph.compile(checkpointer=memory)\n",
    "\n",
    "display(Image(graph_wih_mem.get_graph().draw_mermaid_png()))\n"
   ]
  },
  {
   "cell_type": "code",
   "execution_count": 12,
   "id": "56d555ec",
   "metadata": {},
   "outputs": [],
   "source": [
    "config={\"configurable\":{\"thread_id\":\"1\"}}"
   ]
  },
  {
   "cell_type": "code",
   "execution_count": 13,
   "id": "059855c6",
   "metadata": {},
   "outputs": [
    {
     "data": {
      "text/plain": [
       "{'messages': [HumanMessage(content='Hi myname is atharv and i like mangas', additional_kwargs={}, response_metadata={}, id='b55ef432-8640-4f5d-bc4c-d97c38b625b5'),\n",
       "  AIMessage(content=\"Nice to meet you, Atharv.  Manga is a great interest to have - it's a rich and diverse medium with a wide range of genres and styles. What kind of manga do you enjoy reading? Are you a fan of action-packed series like 'Naruto' or 'One Piece', or do you prefer more slice-of-life stories like 'Barakamon' or 'Silver Spoon'?\", additional_kwargs={}, response_metadata={'token_usage': {'completion_tokens': 83, 'prompt_tokens': 47, 'total_tokens': 130, 'completion_time': 0.134710857, 'prompt_time': 0.002711604, 'queue_time': 0.048221496, 'total_time': 0.137422461}, 'model_name': 'llama-3.1-8b-instant', 'system_fingerprint': 'fp_c54ae48ece', 'service_tier': 'on_demand', 'finish_reason': 'stop', 'logprobs': None}, id='run--f6a86182-6e3e-4f58-bbb4-fce37b756c37-0', usage_metadata={'input_tokens': 47, 'output_tokens': 83, 'total_tokens': 130})]}"
      ]
     },
     "execution_count": 13,
     "metadata": {},
     "output_type": "execute_result"
    }
   ],
   "source": [
    "graph_wih_mem.invoke({\"messages\":\"Hi myname is atharv and i like mangas\"},config)"
   ]
  },
  {
   "cell_type": "markdown",
   "id": "0c91e636",
   "metadata": {},
   "source": [
    "## STREAMING ##"
   ]
  },
  {
   "cell_type": "code",
   "execution_count": null,
   "id": "7a7321aa",
   "metadata": {},
   "outputs": [
    {
     "name": "stdout",
     "output_type": "stream",
     "text": [
      "{'Superbot': {'messages': [AIMessage(content=\"Hello Atharv, nice to meet you. It's great that you enjoy making videos. What kind of videos do you like to make? Are you into vlogging, creating tutorials, or something else?\", additional_kwargs={}, response_metadata={'token_usage': {'completion_tokens': 43, 'prompt_tokens': 48, 'total_tokens': 91, 'completion_time': 0.050598606, 'prompt_time': 0.002741116, 'queue_time': 0.053679454, 'total_time': 0.053339722}, 'model_name': 'llama-3.1-8b-instant', 'system_fingerprint': 'fp_8804b970d6', 'service_tier': 'on_demand', 'finish_reason': 'stop', 'logprobs': None}, id='run--586b73aa-303c-4ee2-a60c-0cf3d6509c23-0', usage_metadata={'input_tokens': 48, 'output_tokens': 43, 'total_tokens': 91})]}}\n"
     ]
    }
   ],
   "source": [
    "config={\"configurable\":{\"thread_id\":\"2\"}}\n",
    "\n",
    "for chunk in graph_wih_mem.stream({\"messages\":\"Hi myname is atharv and i liake to make videos\"},config,stream_mode=\"updates\"):\n",
    "    print(chunk)"
   ]
  },
  {
   "cell_type": "code",
   "execution_count": 15,
   "id": "3c4e65c6",
   "metadata": {},
   "outputs": [
    {
     "name": "stdout",
     "output_type": "stream",
     "text": [
      "{'messages': [HumanMessage(content='Hi myname is atharv and i like to make videos', additional_kwargs={}, response_metadata={}, id='6dd4669b-b3d5-4ec2-a310-f25d1049af98'), AIMessage(content=\"Hello Atharv, nice to meet you. It's great that you enjoy making videos. What kind of videos do you like to make? Are you into vlogging, creating tutorials, or something else?\", additional_kwargs={}, response_metadata={'token_usage': {'completion_tokens': 43, 'prompt_tokens': 48, 'total_tokens': 91, 'completion_time': 0.050598606, 'prompt_time': 0.002741116, 'queue_time': 0.053679454, 'total_time': 0.053339722}, 'model_name': 'llama-3.1-8b-instant', 'system_fingerprint': 'fp_8804b970d6', 'service_tier': 'on_demand', 'finish_reason': 'stop', 'logprobs': None}, id='run--586b73aa-303c-4ee2-a60c-0cf3d6509c23-0', usage_metadata={'input_tokens': 48, 'output_tokens': 43, 'total_tokens': 91}), HumanMessage(content='Hi myname is atharv and i liake to make videos', additional_kwargs={}, response_metadata={}, id='3585074e-794a-468c-84d8-a4a340947ec8')]}\n",
      "{'messages': [HumanMessage(content='Hi myname is atharv and i like to make videos', additional_kwargs={}, response_metadata={}, id='6dd4669b-b3d5-4ec2-a310-f25d1049af98'), AIMessage(content=\"Hello Atharv, nice to meet you. It's great that you enjoy making videos. What kind of videos do you like to make? Are you into vlogging, creating tutorials, or something else?\", additional_kwargs={}, response_metadata={'token_usage': {'completion_tokens': 43, 'prompt_tokens': 48, 'total_tokens': 91, 'completion_time': 0.050598606, 'prompt_time': 0.002741116, 'queue_time': 0.053679454, 'total_time': 0.053339722}, 'model_name': 'llama-3.1-8b-instant', 'system_fingerprint': 'fp_8804b970d6', 'service_tier': 'on_demand', 'finish_reason': 'stop', 'logprobs': None}, id='run--586b73aa-303c-4ee2-a60c-0cf3d6509c23-0', usage_metadata={'input_tokens': 48, 'output_tokens': 43, 'total_tokens': 91}), HumanMessage(content='Hi myname is atharv and i liake to make videos', additional_kwargs={}, response_metadata={}, id='3585074e-794a-468c-84d8-a4a340947ec8'), AIMessage(content=\"Nice to meet you, Atharv. It's great that you have a passion for making videos. What kind of content do you usually create?\", additional_kwargs={}, response_metadata={'token_usage': {'completion_tokens': 31, 'prompt_tokens': 114, 'total_tokens': 145, 'completion_time': 0.038492273, 'prompt_time': 0.006645848, 'queue_time': 0.050215222, 'total_time': 0.045138121}, 'model_name': 'llama-3.1-8b-instant', 'system_fingerprint': 'fp_8a13dfab2b', 'service_tier': 'on_demand', 'finish_reason': 'stop', 'logprobs': None}, id='run--5f91a906-4244-47d7-8801-3a0ed7a8ccab-0', usage_metadata={'input_tokens': 114, 'output_tokens': 31, 'total_tokens': 145})]}\n"
     ]
    }
   ],
   "source": [
    "\n",
    "config={\"configurable\":{\"thread_id\":\"2\"}}\n",
    "\n",
    "for chunk in graph_wih_mem.stream({\"messages\":\"Hi myname is atharv and i liake to make videos\"},config,stream_mode=\"values\"):\n",
    "    print(chunk)"
   ]
  },
  {
   "cell_type": "code",
   "execution_count": 17,
   "id": "e95c4ad3",
   "metadata": {},
   "outputs": [
    {
     "name": "stdout",
     "output_type": "stream",
     "text": [
      "{'Superbot': {'messages': [AIMessage(content=\"It seems like you mentioned reading books again. Is there a particular book or author that you're currently enjoying or would like to discuss?\\n\\nIf you're open to sharing, I'd be happy to chat with you about books or video-making.\", additional_kwargs={}, response_metadata={'token_usage': {'completion_tokens': 49, 'prompt_tokens': 238, 'total_tokens': 287, 'completion_time': 0.098641795, 'prompt_time': 0.014178699, 'queue_time': 0.050995161, 'total_time': 0.112820494}, 'model_name': 'llama-3.1-8b-instant', 'system_fingerprint': 'fp_8804b970d6', 'service_tier': 'on_demand', 'finish_reason': 'stop', 'logprobs': None}, id='run--c2dca76b-517f-4bb2-9bed-ef5701708107-0', usage_metadata={'input_tokens': 238, 'output_tokens': 49, 'total_tokens': 287})]}}\n"
     ]
    }
   ],
   "source": [
    "\n",
    "config={\"configurable\":{\"thread_id\":\"2\"}}\n",
    "\n",
    "for chunk in graph_wih_mem.stream({\"messages\":\"And read books \"},config,stream_mode=\"updates\"):\n",
    "    print(chunk)"
   ]
  },
  {
   "cell_type": "code",
   "execution_count": 18,
   "id": "159021e5",
   "metadata": {},
   "outputs": [
    {
     "name": "stdout",
     "output_type": "stream",
     "text": [
      "{'messages': [HumanMessage(content='Hi myname is atharv and i like to make videos', additional_kwargs={}, response_metadata={}, id='6dd4669b-b3d5-4ec2-a310-f25d1049af98'), AIMessage(content=\"Hello Atharv, nice to meet you. It's great that you enjoy making videos. What kind of videos do you like to make? Are you into vlogging, creating tutorials, or something else?\", additional_kwargs={}, response_metadata={'token_usage': {'completion_tokens': 43, 'prompt_tokens': 48, 'total_tokens': 91, 'completion_time': 0.050598606, 'prompt_time': 0.002741116, 'queue_time': 0.053679454, 'total_time': 0.053339722}, 'model_name': 'llama-3.1-8b-instant', 'system_fingerprint': 'fp_8804b970d6', 'service_tier': 'on_demand', 'finish_reason': 'stop', 'logprobs': None}, id='run--586b73aa-303c-4ee2-a60c-0cf3d6509c23-0', usage_metadata={'input_tokens': 48, 'output_tokens': 43, 'total_tokens': 91}), HumanMessage(content='Hi myname is atharv and i liake to make videos', additional_kwargs={}, response_metadata={}, id='3585074e-794a-468c-84d8-a4a340947ec8'), AIMessage(content=\"Nice to meet you, Atharv. It's great that you have a passion for making videos. What kind of content do you usually create?\", additional_kwargs={}, response_metadata={'token_usage': {'completion_tokens': 31, 'prompt_tokens': 114, 'total_tokens': 145, 'completion_time': 0.038492273, 'prompt_time': 0.006645848, 'queue_time': 0.050215222, 'total_time': 0.045138121}, 'model_name': 'llama-3.1-8b-instant', 'system_fingerprint': 'fp_8a13dfab2b', 'service_tier': 'on_demand', 'finish_reason': 'stop', 'logprobs': None}, id='run--5f91a906-4244-47d7-8801-3a0ed7a8ccab-0', usage_metadata={'input_tokens': 114, 'output_tokens': 31, 'total_tokens': 145}), HumanMessage(content='And read books ', additional_kwargs={}, response_metadata={}, id='881b02f4-bdf7-4612-b5c0-cd9d1c8e5735'), AIMessage(content=\"It sounds like you're a creative and curious person, Atharv. Making videos and reading books are great hobbies that can help you develop your imagination, writing skills, and communication abilities.\\n\\nDo you have a favorite genre or type of book that you like to read? And what kind of videos do you enjoy making the most?\", additional_kwargs={}, response_metadata={'token_usage': {'completion_tokens': 67, 'prompt_tokens': 158, 'total_tokens': 225, 'completion_time': 0.118113735, 'prompt_time': 0.009356759, 'queue_time': 0.053434011, 'total_time': 0.127470494}, 'model_name': 'llama-3.1-8b-instant', 'system_fingerprint': 'fp_c54ae48ece', 'service_tier': 'on_demand', 'finish_reason': 'stop', 'logprobs': None}, id='run--8cf57a6f-75e9-4e66-b596-caed8e5eb639-0', usage_metadata={'input_tokens': 158, 'output_tokens': 67, 'total_tokens': 225}), HumanMessage(content='And read books ', additional_kwargs={}, response_metadata={}, id='03a89ae1-53d7-46be-afc7-30ac15de3ed6'), AIMessage(content=\"It seems like you mentioned reading books again. Is there a particular book or author that you're currently enjoying or would like to discuss?\\n\\nIf you're open to sharing, I'd be happy to chat with you about books or video-making.\", additional_kwargs={}, response_metadata={'token_usage': {'completion_tokens': 49, 'prompt_tokens': 238, 'total_tokens': 287, 'completion_time': 0.098641795, 'prompt_time': 0.014178699, 'queue_time': 0.050995161, 'total_time': 0.112820494}, 'model_name': 'llama-3.1-8b-instant', 'system_fingerprint': 'fp_8804b970d6', 'service_tier': 'on_demand', 'finish_reason': 'stop', 'logprobs': None}, id='run--c2dca76b-517f-4bb2-9bed-ef5701708107-0', usage_metadata={'input_tokens': 238, 'output_tokens': 49, 'total_tokens': 287}), HumanMessage(content='I love none ', additional_kwargs={}, response_metadata={}, id='df3d933e-5645-4fc4-b516-98c986afc2e2')]}\n",
      "{'messages': [HumanMessage(content='Hi myname is atharv and i like to make videos', additional_kwargs={}, response_metadata={}, id='6dd4669b-b3d5-4ec2-a310-f25d1049af98'), AIMessage(content=\"Hello Atharv, nice to meet you. It's great that you enjoy making videos. What kind of videos do you like to make? Are you into vlogging, creating tutorials, or something else?\", additional_kwargs={}, response_metadata={'token_usage': {'completion_tokens': 43, 'prompt_tokens': 48, 'total_tokens': 91, 'completion_time': 0.050598606, 'prompt_time': 0.002741116, 'queue_time': 0.053679454, 'total_time': 0.053339722}, 'model_name': 'llama-3.1-8b-instant', 'system_fingerprint': 'fp_8804b970d6', 'service_tier': 'on_demand', 'finish_reason': 'stop', 'logprobs': None}, id='run--586b73aa-303c-4ee2-a60c-0cf3d6509c23-0', usage_metadata={'input_tokens': 48, 'output_tokens': 43, 'total_tokens': 91}), HumanMessage(content='Hi myname is atharv and i liake to make videos', additional_kwargs={}, response_metadata={}, id='3585074e-794a-468c-84d8-a4a340947ec8'), AIMessage(content=\"Nice to meet you, Atharv. It's great that you have a passion for making videos. What kind of content do you usually create?\", additional_kwargs={}, response_metadata={'token_usage': {'completion_tokens': 31, 'prompt_tokens': 114, 'total_tokens': 145, 'completion_time': 0.038492273, 'prompt_time': 0.006645848, 'queue_time': 0.050215222, 'total_time': 0.045138121}, 'model_name': 'llama-3.1-8b-instant', 'system_fingerprint': 'fp_8a13dfab2b', 'service_tier': 'on_demand', 'finish_reason': 'stop', 'logprobs': None}, id='run--5f91a906-4244-47d7-8801-3a0ed7a8ccab-0', usage_metadata={'input_tokens': 114, 'output_tokens': 31, 'total_tokens': 145}), HumanMessage(content='And read books ', additional_kwargs={}, response_metadata={}, id='881b02f4-bdf7-4612-b5c0-cd9d1c8e5735'), AIMessage(content=\"It sounds like you're a creative and curious person, Atharv. Making videos and reading books are great hobbies that can help you develop your imagination, writing skills, and communication abilities.\\n\\nDo you have a favorite genre or type of book that you like to read? And what kind of videos do you enjoy making the most?\", additional_kwargs={}, response_metadata={'token_usage': {'completion_tokens': 67, 'prompt_tokens': 158, 'total_tokens': 225, 'completion_time': 0.118113735, 'prompt_time': 0.009356759, 'queue_time': 0.053434011, 'total_time': 0.127470494}, 'model_name': 'llama-3.1-8b-instant', 'system_fingerprint': 'fp_c54ae48ece', 'service_tier': 'on_demand', 'finish_reason': 'stop', 'logprobs': None}, id='run--8cf57a6f-75e9-4e66-b596-caed8e5eb639-0', usage_metadata={'input_tokens': 158, 'output_tokens': 67, 'total_tokens': 225}), HumanMessage(content='And read books ', additional_kwargs={}, response_metadata={}, id='03a89ae1-53d7-46be-afc7-30ac15de3ed6'), AIMessage(content=\"It seems like you mentioned reading books again. Is there a particular book or author that you're currently enjoying or would like to discuss?\\n\\nIf you're open to sharing, I'd be happy to chat with you about books or video-making.\", additional_kwargs={}, response_metadata={'token_usage': {'completion_tokens': 49, 'prompt_tokens': 238, 'total_tokens': 287, 'completion_time': 0.098641795, 'prompt_time': 0.014178699, 'queue_time': 0.050995161, 'total_time': 0.112820494}, 'model_name': 'llama-3.1-8b-instant', 'system_fingerprint': 'fp_8804b970d6', 'service_tier': 'on_demand', 'finish_reason': 'stop', 'logprobs': None}, id='run--c2dca76b-517f-4bb2-9bed-ef5701708107-0', usage_metadata={'input_tokens': 238, 'output_tokens': 49, 'total_tokens': 287}), HumanMessage(content='I love none ', additional_kwargs={}, response_metadata={}, id='df3d933e-5645-4fc4-b516-98c986afc2e2'), AIMessage(content=\"It seems like you might not have a specific favorite book or author. That's okay, there are so many great books out there to discover.\\n\\nLet's focus on video-making then. What kind of videos do you like to make? Are you into filmmaking, vlogging, or something else?\", additional_kwargs={}, response_metadata={'token_usage': {'completion_tokens': 61, 'prompt_tokens': 300, 'total_tokens': 361, 'completion_time': 0.096471502, 'prompt_time': 0.017901213, 'queue_time': 0.050268267, 'total_time': 0.114372715}, 'model_name': 'llama-3.1-8b-instant', 'system_fingerprint': 'fp_8a13dfab2b', 'service_tier': 'on_demand', 'finish_reason': 'stop', 'logprobs': None}, id='run--847829c0-fac5-4b25-90d9-a25a72e5df9c-0', usage_metadata={'input_tokens': 300, 'output_tokens': 61, 'total_tokens': 361})]}\n"
     ]
    }
   ],
   "source": [
    "\n",
    "config={\"configurable\":{\"thread_id\":\"2\"}}\n",
    "\n",
    "for chunk in graph_wih_mem.stream({\"messages\":\"I love none \"},config,stream_mode=\"values\"):\n",
    "    print(chunk)"
   ]
  },
  {
   "cell_type": "code",
   "execution_count": null,
   "id": "3c149051",
   "metadata": {},
   "outputs": [],
   "source": []
  }
 ],
 "metadata": {
  "kernelspec": {
   "display_name": "Python 3",
   "language": "python",
   "name": "python3"
  },
  "language_info": {
   "codemirror_mode": {
    "name": "ipython",
    "version": 3
   },
   "file_extension": ".py",
   "mimetype": "text/x-python",
   "name": "python",
   "nbconvert_exporter": "python",
   "pygments_lexer": "ipython3",
   "version": "3.12.0"
  }
 },
 "nbformat": 4,
 "nbformat_minor": 5
}
