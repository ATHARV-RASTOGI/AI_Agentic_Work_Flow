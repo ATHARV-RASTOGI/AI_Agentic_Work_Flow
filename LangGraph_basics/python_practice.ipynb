{
 "cells": [
  {
   "cell_type": "code",
   "execution_count": null,
   "id": "b0b143f7",
   "metadata": {},
   "outputs": [
    {
     "name": "stdout",
     "output_type": "stream",
     "text": [
      "2\n",
      "5\n"
     ]
    }
   ],
   "source": [
    "s=\"I love Python programming in Python for Data Analysis course\"\n",
    "\n",
    "ss=s.split()\n",
    "c=0\n",
    "tar=\"Python\"\n",
    "for i in ss:\n",
    "    if(i==tar):\n",
    "        print(c)\n",
    "    c=c+1\n"
   ]
  },
  {
   "cell_type": "code",
   "execution_count": null,
   "id": "d580ff76",
   "metadata": {},
   "outputs": [
    {
     "name": "stdout",
     "output_type": "stream",
     "text": [
      "b#n#n#\n"
     ]
    }
   ],
   "source": [
    "str=\"banana\"\n",
    "er=str.replace(\"a\",\"#\")\n",
    "print(er)"
   ]
  },
  {
   "cell_type": "code",
   "execution_count": 17,
   "id": "dc15b1d4",
   "metadata": {},
   "outputs": [
    {
     "name": "stdout",
     "output_type": "stream",
     "text": [
      "it is a palindrome \n"
     ]
    }
   ],
   "source": [
    "stt=input(\"ehter the word :\")\n",
    "str_rev=stt[::-1]\n",
    "if(str_rev==stt):print(\"it is a palindrome \")\n"
   ]
  },
  {
   "cell_type": "code",
   "execution_count": 22,
   "id": "04455408",
   "metadata": {},
   "outputs": [
    {
     "name": "stdout",
     "output_type": "stream",
     "text": [
      "Python 6\n"
     ]
    }
   ],
   "source": [
    "g_str=\"World of Python Java C Rubi Julia\"\n",
    "dict={}\n",
    "maxi=0\n",
    "letter=\"\"\n",
    "\n",
    "woo=g_str.split(\" \")\n",
    "for i in woo:\n",
    "    dict[i]=len(i)\n",
    "\n",
    "for woo,length in dict.items():\n",
    "    if(length>maxi):\n",
    "        maxi=length\n",
    "        letter=woo\n",
    "print(letter,maxi)"
   ]
  },
  {
   "cell_type": "code",
   "execution_count": 26,
   "id": "de52e3c7",
   "metadata": {},
   "outputs": [
    {
     "name": "stdout",
     "output_type": "stream",
     "text": [
      "['python', 'for', 'data', 'analysis,', 'analytics,', 'business', 'analytics']\n"
     ]
    }
   ],
   "source": [
    "dd=\"Python for Data Analysis, Data Analytics, Business Analytics\"\n",
    "d_s=set()\n",
    "looo=dd.lower()\n",
    "res=[]\n",
    "\n",
    "s_l=looo.split(\" \")\n",
    "for i in s_l:\n",
    "    wo=i.strip(\",.\")\n",
    "    if i not in d_s:\n",
    "        d_s.add(i)\n",
    "        res.append(i)\n",
    "\n",
    "print(res)"
   ]
  },
  {
   "cell_type": "code",
   "execution_count": null,
   "id": "ff752f38",
   "metadata": {},
   "outputs": [
    {
     "name": "stdout",
     "output_type": "stream",
     "text": [
      "2\n",
      "None\n"
     ]
    }
   ],
   "source": [
    "l=[1,23,3,4,3,5,6,7]\n",
    "print(l.count(3))\n"
   ]
  },
  {
   "cell_type": "code",
   "execution_count": null,
   "id": "96ec42d2",
   "metadata": {},
   "outputs": [
    {
     "name": "stdout",
     "output_type": "stream",
     "text": [
      "None\n"
     ]
    }
   ],
   "source": [
    "a=l.sort()"
   ]
  },
  {
   "cell_type": "code",
   "execution_count": 15,
   "id": "7ad75be9",
   "metadata": {},
   "outputs": [
    {
     "name": "stdout",
     "output_type": "stream",
     "text": [
      "[3, 4, 5, 6, 7, 8, 9, 10]\n",
      "(15, 3, 7)\n"
     ]
    }
   ],
   "source": [
    "import math\n",
    "def prime(n):\n",
    "    if n<=1:\n",
    "        return False\n",
    "    else:\n",
    "        for i in range(2,int(math.sqrt(n)+1)):\n",
    "            if n % i == 0:\n",
    "                return False\n",
    "        return True\n",
    "\n",
    "# a=int(input(\"Ener the no: \"))\n",
    "# if prime(a):\n",
    "#     print(\"is a prime no\")\n",
    "# else:\n",
    "#     print(\"not\")\n",
    "\n",
    "\n",
    "def List_prime(LIS):\n",
    "    print(LIS)\n",
    "    N_L=[]\n",
    "    for i in LIS:\n",
    "        if prime(i):\n",
    "            N_L.append(i)\n",
    "    \n",
    "    s=sum(N_L)\n",
    "    m=max(N_L)\n",
    "    n=min(N_L)\n",
    "    return(s,n,m)\n",
    "\n",
    "no= [3, 4, 5, 6, 7, 8, 9, 10] \n",
    "print(List_prime(no))\n"
   ]
  },
  {
   "cell_type": "code",
   "execution_count": 21,
   "id": "920a0ceb",
   "metadata": {},
   "outputs": [
    {
     "name": "stdout",
     "output_type": "stream",
     "text": [
      "Python\n",
      "C\n"
     ]
    }
   ],
   "source": [
    "def sttr(ak):\n",
    "  \n",
    "    spl=ak.split()\n",
    "    d_t={}\n",
    "\n",
    "    for i in spl:\n",
    "        d_t[i]=len(i)\n",
    "    \n",
    "   \n",
    "    print(max(spl,key=len))\n",
    "    print(min(spl,key=len))\n",
    "    \n",
    "\n",
    "srr= \"World of Python Java C Rubi Julia\" \n",
    "sttr(srr)\n",
    "\n",
    "\n"
   ]
  },
  {
   "cell_type": "code",
   "execution_count": null,
   "id": "1157aa73",
   "metadata": {},
   "outputs": [],
   "source": []
  },
  {
   "cell_type": "code",
   "execution_count": null,
   "id": "d7cabf5a",
   "metadata": {},
   "outputs": [],
   "source": []
  },
  {
   "cell_type": "code",
   "execution_count": null,
   "id": "ae1c8cc6",
   "metadata": {},
   "outputs": [],
   "source": []
  },
  {
   "cell_type": "code",
   "execution_count": null,
   "metadata": {},
   "outputs": [],
   "source": []
  }
 ],
 "metadata": {
  "kernelspec": {
   "display_name": "Python 3",
   "language": "python",
   "name": "python3"
  },
  "language_info": {
   "codemirror_mode": {
    "name": "ipython",
    "version": 3
   },
   "file_extension": ".py",
   "mimetype": "text/x-python",
   "name": "python",
   "nbconvert_exporter": "python",
   "pygments_lexer": "ipython3",
   "version": "3.12.0"
  }
 },
 "nbformat": 4,
 "nbformat_minor": 5
}
