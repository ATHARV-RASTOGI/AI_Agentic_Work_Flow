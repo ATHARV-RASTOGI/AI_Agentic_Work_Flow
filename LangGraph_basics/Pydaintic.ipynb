{
 "cells": [
  {
   "cell_type": "code",
   "execution_count": null,
   "id": "538eb051",
   "metadata": {},
   "outputs": [],
   "source": []
  },
  {
   "cell_type": "markdown",
   "id": "8500f176",
   "metadata": {},
   "source": [
    "## Pydantic Validation ##\n",
    "### for validating datatypes entered and passed for the graph ###"
   ]
  },
  {
   "cell_type": "code",
   "execution_count": null,
   "id": "22cb9460",
   "metadata": {},
   "outputs": [],
   "source": [
    "\n",
    "from langgraph.graph import StateGraph,START,END\n",
    "from pydantic import BaseModel\n",
    "\n"
   ]
  },
  {
   "cell_type": "code",
   "execution_count": 2,
   "id": "ff9221f1",
   "metadata": {},
   "outputs": [],
   "source": [
    "class State(BaseModel):\n",
    "    name:str\n",
    "    "
   ]
  },
  {
   "cell_type": "code",
   "execution_count": 3,
   "metadata": {},
   "outputs": [],
   "source": [
    "## node function \n",
    "\n",
    "def example_node(state:State):\n",
    "    return{\"name\":\"Hello\"}\n"
   ]
  },
  {
   "cell_type": "code",
   "execution_count": 5,
   "metadata": {},
   "outputs": [],
   "source": [
    "## stateGraph \n",
    "\n",
    "builder=StateGraph(State)\n",
    "builder.add_node(\"example_node\",example_node)\n",
    "\n",
    "builder.add_edge(START,\"example_node\")\n",
    "builder.add_edge(\"example_node\",END)\n",
    "\n",
    "graph=builder.compile()"
   ]
  },
  {
   "cell_type": "code",
   "execution_count": 8,
   "metadata": {},
   "outputs": [
    {
     "data": {
      "text/plain": [
       "{'name': 'Hello'}"
      ]
     },
     "execution_count": 8,
     "metadata": {},
     "output_type": "execute_result"
    }
   ],
   "source": [
    "graph.invoke({\"name\":\"123\"})"
   ]
  },
  {
   "cell_type": "code",
   "execution_count": null,
   "metadata": {},
   "outputs": [],
   "source": []
  },
  {
   "cell_type": "code",
   "execution_count": null,
   "metadata": {},
   "outputs": [],
   "source": []
  }
 ],
 "metadata": {
  "kernelspec": {
   "display_name": "Python 3",
   "language": "python",
   "name": "python3"
  },
  "language_info": {
   "codemirror_mode": {
    "name": "ipython",
    "version": 3
   },
   "file_extension": ".py",
   "mimetype": "text/x-python",
   "name": "python",
   "nbconvert_exporter": "python",
   "pygments_lexer": "ipython3",
   "version": "3.12.0"
  }
 },
 "nbformat": 4,
 "nbformat_minor": 5
}
